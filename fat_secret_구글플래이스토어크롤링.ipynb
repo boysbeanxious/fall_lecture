{
 "cells": [
  {
   "cell_type": "code",
   "execution_count": 1,
   "metadata": {},
   "outputs": [],
   "source": [
    "# from selenium import webdriver\n",
    "\n",
    "# url = \"http://naver.com\"   # 접속하고자하는 url\n",
    "# driverPath = \"./chromedriver\" # Chrome Driver path\n",
    "# driver = webdriver.Chrome(driverPath)   # Open Chrome \n",
    "# driver.get(url)    # Enter the url"
   ]
  },
  {
   "cell_type": "code",
   "execution_count": 2,
   "metadata": {},
   "outputs": [],
   "source": [
    "# URL = 'https://play.google.com/store/apps/details?id=com.github.android' \n",
    "URL = 'https://play.google.com/store/apps/details?id=com.fatsecret.android&hl=ko&gl=US'"
   ]
  },
  {
   "cell_type": "code",
   "execution_count": 3,
   "metadata": {},
   "outputs": [],
   "source": [
    "# chrome_driver = '../chromedriver.exe' # 파일 확장자 이름 표기\n",
    "chrome_driver = './chromedriver' # 파일 확장자 이름 미표기"
   ]
  },
  {
   "cell_type": "code",
   "execution_count": 4,
   "metadata": {},
   "outputs": [
    {
     "name": "stderr",
     "output_type": "stream",
     "text": [
      "/Users/boysbeanxious/opt/anaconda3/lib/python3.7/site-packages/requests/__init__.py:91: RequestsDependencyWarning: urllib3 (1.26.12) or chardet (3.0.4) doesn't match a supported version!\n",
      "  RequestsDependencyWarning)\n"
     ]
    }
   ],
   "source": [
    "import requests\n",
    "from selenium import webdriver\n",
    "from selenium.webdriver.common.keys import Keys\n",
    "from selenium.webdriver.support.ui import WebDriverWait\n",
    "from selenium.webdriver.support import expected_conditions as EC\n",
    "from selenium.webdriver.common.by import By\n",
    "from selenium.webdriver.common.keys import Keys\n",
    "from bs4 import BeautifulSoup\n",
    "import time\n",
    "from time import sleep\n",
    "import random\n",
    "import pandas as pd"
   ]
  },
  {
   "cell_type": "code",
   "execution_count": 5,
   "metadata": {},
   "outputs": [],
   "source": [
    "def scroll(modal):\n",
    "    try:        \n",
    "        # 스크롤 높이 받아오기\n",
    "        last_height = driver.execute_script(\"return arguments[0].scrollHeight\", modal)\n",
    "        while True:\n",
    "            pause_time = random.uniform(0.5, 0.8)\n",
    "            # 최하단까지 스크롤\n",
    "            driver.execute_script(\"arguments[0].scrollTo(0, arguments[0].scrollHeight);\", modal)\n",
    "            # 페이지 로딩 대기\n",
    "            time.sleep(pause_time)\n",
    "            # 무한 스크롤 동작을 위해 살짝 위로 스크롤\n",
    "            driver.execute_script(\"arguments[0].scrollTo(0, arguments[0].scrollHeight-50);\", modal)\n",
    "            time.sleep(pause_time)\n",
    "            # 스크롤 높이 새롭게 받아오기\n",
    "            new_height = driver.execute_script(\"return arguments[0].scrollHeight\", modal)\n",
    "            try:\n",
    "                # '더보기' 버튼 있을 경우 클릭\n",
    "                all_review_button = driver.find_element_by_xpath('/html/body/div[1]/div[4]/c-wiz/div/div[2]/div/div/main/div/div[1]/div[2]/div[2]/div/span/span').click()\n",
    "            except:\n",
    "                # 스크롤 완료 경우\n",
    "                if new_height == last_height:\n",
    "                    print(\"스크롤 완료\")\n",
    "                    break\n",
    "                last_height = new_height\n",
    "                \n",
    "    except Exception as e:\n",
    "        print(\"에러 발생: \", e)"
   ]
  },
  {
   "cell_type": "code",
   "execution_count": 6,
   "metadata": {},
   "outputs": [
    {
     "name": "stderr",
     "output_type": "stream",
     "text": [
      "/Users/boysbeanxious/opt/anaconda3/lib/python3.7/site-packages/ipykernel_launcher.py:6: DeprecationWarning: executable_path has been deprecated, please pass in a Service object\n",
      "  \n"
     ]
    },
    {
     "name": "stdout",
     "output_type": "stream",
     "text": [
      "스크롤 완료\n"
     ]
    }
   ],
   "source": [
    "# 크롬 드라이버 세팅\n",
    "chrome_options = webdriver.ChromeOptions()\n",
    "chrome_options.add_argument('--no-sandbox')\n",
    "chrome_options.add_argument('--disable-dev-shm-usage')\n",
    "chrome_options.add_argument('--disable-blink-features=AutomationControlled')\n",
    "driver = webdriver.Chrome(chrome_driver, options = chrome_options)\n",
    "# 페이지 열기\n",
    "driver.get(URL)\n",
    "# 페이지 로딩 대기\n",
    "wait = WebDriverWait(driver, 5)\n",
    "\n",
    "# '리뷰 모두 보기' 버튼 렌더링 확인(path 수정 @2022-06-22)\n",
    "all_review_button_xpath = '/html/body/c-wiz[2]/div/div/div[1]/div[2]/div/div[1]/c-wiz[4]/section/div/div/div[5]/div/div/button/span'\n",
    "button_loading_wait = wait.until(EC.element_to_be_clickable((By.XPATH, all_review_button_xpath)))\n",
    "# '리뷰 모두 보기' 버튼 클릭\n",
    "driver.find_element(By.XPATH,all_review_button_xpath).click()\n",
    "\n",
    "# '리뷰 모두 보기' 페이지 렌더링 대기\n",
    "all_review_page_xpath = '/html/body/div[4]/div[2]/div/div/div/div/div[2]'\n",
    "page_loading_wait = wait.until(EC.element_to_be_clickable((By.XPATH, all_review_page_xpath)))\n",
    "\n",
    "# 페이지 무한 스크롤 다운\n",
    "modal = WebDriverWait(driver, 2).until(EC.element_to_be_clickable((By.XPATH, \"//div[@class='fysCi']\")))\n",
    "scroll(modal)"
   ]
  },
  {
   "cell_type": "code",
   "execution_count": 7,
   "metadata": {},
   "outputs": [],
   "source": [
    "# html parsing하기\n",
    "html_source = driver.page_source\n",
    "soup_source = BeautifulSoup(html_source, 'html.parser')"
   ]
  },
  {
   "cell_type": "code",
   "execution_count": 8,
   "metadata": {},
   "outputs": [],
   "source": [
    "driver.quit()"
   ]
  },
  {
   "cell_type": "code",
   "execution_count": 9,
   "metadata": {},
   "outputs": [],
   "source": [
    "# html 데이터 저장\n",
    "with open(\"./fatsecret_data_html.html\", \"w\", encoding = 'utf-8') as file:\n",
    "    file.write(str(soup_source))"
   ]
  },
  {
   "cell_type": "code",
   "execution_count": 10,
   "metadata": {},
   "outputs": [
    {
     "name": "stdout",
     "output_type": "stream",
     "text": [
      "review num 2663\n",
      "<div class=\"RHo1pe\"><header class=\"c1bOId\" data-review-id=\"87830e98-de60-4a9b-8bd3-2a934424704a\" jsaction=\"rcuQ6b:SIRhf\" jscontroller=\"j9sf1\"><div class=\"YNR7H\"><div class=\"gSGphe\"><img aria-hidden=\"true\" class=\"T75of abYEib\" loading=\"lazy\" src=\"https://play-lh.googleusercontent.com/EGemoI2NTXmTsBVtJqk8jxF9rh8ApRWfsIMQSt2uE4OcpQqbFu7f7NbTK05lx80nuSijCz7sc3a277R67g=s32-rw\" srcset=\"https://play-lh.googleusercontent.com/EGemoI2NTXmTsBVtJqk8jxF9rh8ApRWfsIMQSt2uE4OcpQqbFu7f7NbTK05lx80nuSijCz7sc3a277R67g=s64-rw 2x\"/><div class=\"X5PpBb\">Google 사용자</div></div><div jsaction=\"FzgWvd:uXu05d\"><div class=\"VfPpkd-xl07Ob-XxIAqe-OWXEXe-oYxtQd\" data-disable-idom=\"true\" jsaction=\"JIbuQc:aj0Jcf(WjL7X); keydown:uYT2Vb(WjL7X);iFFCZc:oNPcuf;Rld2oe:li9Srb\" jscontroller=\"wg1P6b\" jsname=\"L2ufaf\" jsshadow=\"\"><div jsname=\"WjL7X\" jsslot=\"\"><button aria-controls=\"UM33ifc365698\" aria-expanded=\"false\" aria-haspopup=\"menu\" aria-label=\"추가 리뷰 작업\" class=\"VfPpkd-Bz112c-LgbsSe yHy1rc eT1oJ mN1ivc\" data-disable-idom=\"true\" jsaction=\"click:cOuCgd; mousedown:UX7yZ; mouseup:lbsD7e; mouseenter:tfO1Yc; mouseleave:JywGue; touchstart:p6p2H; touchmove:FwuNnf; touchend:yfqBxc; touchcancel:JMtRjd; focus:AHmuwe; blur:O22p3e; contextmenu:mg9Pef;mlnRJb:fLiPzd\" jscontroller=\"soHxf\"><div class=\"VfPpkd-Bz112c-Jh9lGc\" jsname=\"s3Eaab\"></div><div class=\"VfPpkd-Bz112c-J1Ukfc-LhBDec\"></div><i aria-hidden=\"true\" class=\"material-icons-extended VfPpkd-kBDsod\">more_vert</i></button></div><div jsname=\"U0exHf\" jsslot=\"\"> <div class=\"VfPpkd-xl07Ob-XxIAqe VfPpkd-xl07Ob q6oraf P77izf B6Yvkd\" data-disable-idom=\"true\" data-is-hoisted=\"false\" data-should-flip-corner-horizontally=\"false\" id=\"UM33ifc365698\" jsaction=\"keydown:I481le;JIbuQc:j697N(rymPhb);XVaHYd:c9v4Fb(rymPhb);Oyo5M:b5fzT(rymPhb);DimkCe:TQSy7b(rymPhb);m0LGSd:fAWgXe(rymPhb);WAiFGd:kVJJuc(rymPhb)\" jscontroller=\"ywOR5c\"><ul aria-label=\"추가 리뷰 작업\" class=\"VfPpkd-StrnGf-rymPhb DMZ54e\" data-disable-idom=\"true\" jsaction=\"mouseleave:JywGue; touchcancel:JMtRjd; focus:AHmuwe; blur:O22p3e; keydown:I481le\" jscontroller=\"PHUIyb\" jsname=\"rymPhb\" role=\"menu\" tabindex=\"-1\"><span aria-hidden=\"true\" class=\"VfPpkd-BFbNVe-bF1uUb NZp2ef\"></span><li class=\"bO7Z3c VfPpkd-StrnGf-rymPhb-ibnC6b\" data-option=\"2\" jsaction=\"click:o6ZaF;keydown:RDtNu; keyup:JdS61c; focusin:MeMJlc; focusout:bkTmIf;mousedown:teoBgf; mouseup:NZPHBc; mouseenter:SKyDAe; mouseleave:xq3APb; touchstart:jJiBRc; touchmove:kZeBdd; touchend:VfAz8; change:uOgbud\" role=\"menuitem\" tabindex=\"-1\"><span class=\"VfPpkd-StrnGf-rymPhb-pZXsl\"></span><span class=\"VfPpkd-StrnGf-rymPhb-b9t22c\" jsname=\"K4r5Ff\">부적절한 리뷰로 신고</span></li></ul></div></div></div></div></div><div class=\"Jx4nYe\"><div aria-label=\"별표 5개 만점에 3개를 받았습니다.\" class=\"iXRFPc\" role=\"img\"><span aria-hidden=\"true\" class=\"F7XJmb\" data-number=\"1\" jsname=\"fI6EEc\"><span aria-hidden=\"true\" class=\"Z1Dz7b\"><svg viewbox=\"0 0 24 24\" xmlns=\"http://www.w3.org/2000/svg\"><path d=\"M0 0h24v24H0z\" fill=\"none\"></path><path d=\"M0 0h24v24H0z\" fill=\"none\"></path><path d=\"M12 17.27L18.18 21l-1.64-7.03L22 9.24l-7.19-.61L12 2 9.19 8.63 2 9.24l5.46 4.73L5.82 21z\"></path></svg></span></span><span aria-hidden=\"true\" class=\"F7XJmb\" data-number=\"2\" jsname=\"fI6EEc\"><span aria-hidden=\"true\" class=\"Z1Dz7b\"><svg viewbox=\"0 0 24 24\" xmlns=\"http://www.w3.org/2000/svg\"><path d=\"M0 0h24v24H0z\" fill=\"none\"></path><path d=\"M0 0h24v24H0z\" fill=\"none\"></path><path d=\"M12 17.27L18.18 21l-1.64-7.03L22 9.24l-7.19-.61L12 2 9.19 8.63 2 9.24l5.46 4.73L5.82 21z\"></path></svg></span></span><span aria-hidden=\"true\" class=\"F7XJmb\" data-number=\"3\" jsname=\"fI6EEc\"><span aria-hidden=\"true\" class=\"Z1Dz7b\"><svg viewbox=\"0 0 24 24\" xmlns=\"http://www.w3.org/2000/svg\"><path d=\"M0 0h24v24H0z\" fill=\"none\"></path><path d=\"M0 0h24v24H0z\" fill=\"none\"></path><path d=\"M12 17.27L18.18 21l-1.64-7.03L22 9.24l-7.19-.61L12 2 9.19 8.63 2 9.24l5.46 4.73L5.82 21z\"></path></svg></span></span><span aria-hidden=\"true\" class=\"F7XJmb\" data-number=\"4\" jsname=\"fI6EEc\"><span aria-hidden=\"true\" class=\"Wi7KIe\"><svg viewbox=\"0 0 24 24\" xmlns=\"http://www.w3.org/2000/svg\"><path d=\"M0 0h24v24H0z\" fill=\"none\"></path><path d=\"M0 0h24v24H0z\" fill=\"none\"></path><path d=\"M12 17.27L18.18 21l-1.64-7.03L22 9.24l-7.19-.61L12 2 9.19 8.63 2 9.24l5.46 4.73L5.82 21z\"></path></svg></span></span><span aria-hidden=\"true\" class=\"F7XJmb\" data-number=\"5\" jsname=\"fI6EEc\"><span aria-hidden=\"true\" class=\"Wi7KIe\"><svg viewbox=\"0 0 24 24\" xmlns=\"http://www.w3.org/2000/svg\"><path d=\"M0 0h24v24H0z\" fill=\"none\"></path><path d=\"M0 0h24v24H0z\" fill=\"none\"></path><path d=\"M12 17.27L18.18 21l-1.64-7.03L22 9.24l-7.19-.61L12 2 9.19 8.63 2 9.24l5.46 4.73L5.82 21z\"></path></svg></span></span></div><span class=\"bp9Aid\">2014년 2월 14일</span></div></header><div data-original-thumbs-up-count=\"0\" data-review-id=\"87830e98-de60-4a9b-8bd3-2a934424704a\" jscontroller=\"SWD8cc\"><footer class=\"Anb3we\" jsaction=\"sG2nqb:sY4eAb\" jsname=\"GJNbDf\"><div class=\"NC0Ppb\">이 리뷰가 유용했나요?</div><div data-expanded-toggles=\"true\" jsaction=\"rcuQ6b:BZEmlb;JIbuQc:TmtE8e\" jscontroller=\"wW2D8b\" jsmodel=\"b7Ourf\"><div class=\"b6SkTb\"><div aria-label=\"예\" aria-pressed=\"false\" class=\"D3Qfie VfPpkd-ksKsZd-XxIAqe UQI9cd kofMvc EFMXQ\" data-single-select=\"true\" id=\"1\" jsaction=\"click:cOuCgd; mousedown:UX7yZ; mouseup:lbsD7e; mouseenter:tfO1Yc; mouseleave:JywGue; touchstart:p6p2H; touchmove:FwuNnf; touchend:yfqBxc; touchcancel:JMtRjd; focus:AHmuwe; blur:O22p3e; contextmenu:mg9Pef;jzJ2q:RgMCxe\" jscontroller=\"fdeHmf\" role=\"button\" tabindex=\"0\"><div aria-hidden=\"true\" class=\"Gggmbb\"></div><div aria-hidden=\"true\" class=\"kW9Bj\"><span class=\"c6xzBd jv2yne\" jsname=\"o9vyuc\"></span><span class=\"ypTNYd\" jsname=\"ODzDMd\">예</span></div></div><div aria-label=\"아니요\" aria-pressed=\"false\" class=\"D3Qfie VfPpkd-ksKsZd-XxIAqe UQI9cd kofMvc EFMXQ\" data-single-select=\"true\" id=\"2\" jsaction=\"click:cOuCgd; mousedown:UX7yZ; mouseup:lbsD7e; mouseenter:tfO1Yc; mouseleave:JywGue; touchstart:p6p2H; touchmove:FwuNnf; touchend:yfqBxc; touchcancel:JMtRjd; focus:AHmuwe; blur:O22p3e; contextmenu:mg9Pef;jzJ2q:RgMCxe\" jscontroller=\"fdeHmf\" role=\"button\" tabindex=\"0\"><div aria-hidden=\"true\" class=\"Gggmbb\"></div><div aria-hidden=\"true\" class=\"kW9Bj\"><span class=\"c6xzBd jv2yne\" jsname=\"o9vyuc\"></span><span class=\"ypTNYd\" jsname=\"ODzDMd\">아니요</span></div></div></div></div></footer></div></div>\n",
      "review num 2664\n",
      "<div class=\"RHo1pe\"><header class=\"c1bOId\" data-review-id=\"2b39b013-a618-4a95-9a4b-9586cdeafccc\" jsaction=\"rcuQ6b:SIRhf\" jscontroller=\"j9sf1\"><div class=\"YNR7H\"><div class=\"gSGphe\"><img aria-hidden=\"true\" class=\"T75of abYEib\" loading=\"lazy\" src=\"https://play-lh.googleusercontent.com/EGemoI2NTXmTsBVtJqk8jxF9rh8ApRWfsIMQSt2uE4OcpQqbFu7f7NbTK05lx80nuSijCz7sc3a277R67g=s32-rw\" srcset=\"https://play-lh.googleusercontent.com/EGemoI2NTXmTsBVtJqk8jxF9rh8ApRWfsIMQSt2uE4OcpQqbFu7f7NbTK05lx80nuSijCz7sc3a277R67g=s64-rw 2x\"/><div class=\"X5PpBb\">Google 사용자</div></div><div jsaction=\"FzgWvd:uXu05d\"><div class=\"VfPpkd-xl07Ob-XxIAqe-OWXEXe-oYxtQd\" data-disable-idom=\"true\" jsaction=\"JIbuQc:aj0Jcf(WjL7X); keydown:uYT2Vb(WjL7X);iFFCZc:oNPcuf;Rld2oe:li9Srb\" jscontroller=\"wg1P6b\" jsname=\"L2ufaf\" jsshadow=\"\"><div jsname=\"WjL7X\" jsslot=\"\"><button aria-controls=\"UM33ifc365699\" aria-expanded=\"false\" aria-haspopup=\"menu\" aria-label=\"추가 리뷰 작업\" class=\"VfPpkd-Bz112c-LgbsSe yHy1rc eT1oJ mN1ivc\" data-disable-idom=\"true\" jsaction=\"click:cOuCgd; mousedown:UX7yZ; mouseup:lbsD7e; mouseenter:tfO1Yc; mouseleave:JywGue; touchstart:p6p2H; touchmove:FwuNnf; touchend:yfqBxc; touchcancel:JMtRjd; focus:AHmuwe; blur:O22p3e; contextmenu:mg9Pef;mlnRJb:fLiPzd\" jscontroller=\"soHxf\"><div class=\"VfPpkd-Bz112c-Jh9lGc\" jsname=\"s3Eaab\"></div><div class=\"VfPpkd-Bz112c-J1Ukfc-LhBDec\"></div><i aria-hidden=\"true\" class=\"material-icons-extended VfPpkd-kBDsod\">more_vert</i></button></div><div jsname=\"U0exHf\" jsslot=\"\"> <div class=\"VfPpkd-xl07Ob-XxIAqe VfPpkd-xl07Ob q6oraf P77izf B6Yvkd\" data-disable-idom=\"true\" data-is-hoisted=\"false\" data-should-flip-corner-horizontally=\"false\" id=\"UM33ifc365699\" jsaction=\"keydown:I481le;JIbuQc:j697N(rymPhb);XVaHYd:c9v4Fb(rymPhb);Oyo5M:b5fzT(rymPhb);DimkCe:TQSy7b(rymPhb);m0LGSd:fAWgXe(rymPhb);WAiFGd:kVJJuc(rymPhb)\" jscontroller=\"ywOR5c\"><ul aria-label=\"추가 리뷰 작업\" class=\"VfPpkd-StrnGf-rymPhb DMZ54e\" data-disable-idom=\"true\" jsaction=\"mouseleave:JywGue; touchcancel:JMtRjd; focus:AHmuwe; blur:O22p3e; keydown:I481le\" jscontroller=\"PHUIyb\" jsname=\"rymPhb\" role=\"menu\" tabindex=\"-1\"><span aria-hidden=\"true\" class=\"VfPpkd-BFbNVe-bF1uUb NZp2ef\"></span><li class=\"bO7Z3c VfPpkd-StrnGf-rymPhb-ibnC6b\" data-option=\"2\" jsaction=\"click:o6ZaF;keydown:RDtNu; keyup:JdS61c; focusin:MeMJlc; focusout:bkTmIf;mousedown:teoBgf; mouseup:NZPHBc; mouseenter:SKyDAe; mouseleave:xq3APb; touchstart:jJiBRc; touchmove:kZeBdd; touchend:VfAz8; change:uOgbud\" role=\"menuitem\" tabindex=\"-1\"><span class=\"VfPpkd-StrnGf-rymPhb-pZXsl\"></span><span class=\"VfPpkd-StrnGf-rymPhb-b9t22c\" jsname=\"K4r5Ff\">부적절한 리뷰로 신고</span></li></ul></div></div></div></div></div><div class=\"Jx4nYe\"><div aria-label=\"별표 5개 만점에 5개를 받았습니다.\" class=\"iXRFPc\" role=\"img\"><span aria-hidden=\"true\" class=\"F7XJmb\" data-number=\"1\" jsname=\"fI6EEc\"><span aria-hidden=\"true\" class=\"Z1Dz7b\"><svg viewbox=\"0 0 24 24\" xmlns=\"http://www.w3.org/2000/svg\"><path d=\"M0 0h24v24H0z\" fill=\"none\"></path><path d=\"M0 0h24v24H0z\" fill=\"none\"></path><path d=\"M12 17.27L18.18 21l-1.64-7.03L22 9.24l-7.19-.61L12 2 9.19 8.63 2 9.24l5.46 4.73L5.82 21z\"></path></svg></span></span><span aria-hidden=\"true\" class=\"F7XJmb\" data-number=\"2\" jsname=\"fI6EEc\"><span aria-hidden=\"true\" class=\"Z1Dz7b\"><svg viewbox=\"0 0 24 24\" xmlns=\"http://www.w3.org/2000/svg\"><path d=\"M0 0h24v24H0z\" fill=\"none\"></path><path d=\"M0 0h24v24H0z\" fill=\"none\"></path><path d=\"M12 17.27L18.18 21l-1.64-7.03L22 9.24l-7.19-.61L12 2 9.19 8.63 2 9.24l5.46 4.73L5.82 21z\"></path></svg></span></span><span aria-hidden=\"true\" class=\"F7XJmb\" data-number=\"3\" jsname=\"fI6EEc\"><span aria-hidden=\"true\" class=\"Z1Dz7b\"><svg viewbox=\"0 0 24 24\" xmlns=\"http://www.w3.org/2000/svg\"><path d=\"M0 0h24v24H0z\" fill=\"none\"></path><path d=\"M0 0h24v24H0z\" fill=\"none\"></path><path d=\"M12 17.27L18.18 21l-1.64-7.03L22 9.24l-7.19-.61L12 2 9.19 8.63 2 9.24l5.46 4.73L5.82 21z\"></path></svg></span></span><span aria-hidden=\"true\" class=\"F7XJmb\" data-number=\"4\" jsname=\"fI6EEc\"><span aria-hidden=\"true\" class=\"Z1Dz7b\"><svg viewbox=\"0 0 24 24\" xmlns=\"http://www.w3.org/2000/svg\"><path d=\"M0 0h24v24H0z\" fill=\"none\"></path><path d=\"M0 0h24v24H0z\" fill=\"none\"></path><path d=\"M12 17.27L18.18 21l-1.64-7.03L22 9.24l-7.19-.61L12 2 9.19 8.63 2 9.24l5.46 4.73L5.82 21z\"></path></svg></span></span><span aria-hidden=\"true\" class=\"F7XJmb\" data-number=\"5\" jsname=\"fI6EEc\"><span aria-hidden=\"true\" class=\"Z1Dz7b\"><svg viewbox=\"0 0 24 24\" xmlns=\"http://www.w3.org/2000/svg\"><path d=\"M0 0h24v24H0z\" fill=\"none\"></path><path d=\"M0 0h24v24H0z\" fill=\"none\"></path><path d=\"M12 17.27L18.18 21l-1.64-7.03L22 9.24l-7.19-.61L12 2 9.19 8.63 2 9.24l5.46 4.73L5.82 21z\"></path></svg></span></span></div><span class=\"bp9Aid\">2014년 3월 9일</span></div></header><div data-original-thumbs-up-count=\"0\" data-review-id=\"2b39b013-a618-4a95-9a4b-9586cdeafccc\" jscontroller=\"SWD8cc\"><footer class=\"Anb3we\" jsaction=\"sG2nqb:sY4eAb\" jsname=\"GJNbDf\"><div class=\"NC0Ppb\">이 리뷰가 유용했나요?</div><div data-expanded-toggles=\"true\" jsaction=\"rcuQ6b:BZEmlb;JIbuQc:TmtE8e\" jscontroller=\"wW2D8b\" jsmodel=\"b7Ourf\"><div class=\"b6SkTb\"><div aria-label=\"예\" aria-pressed=\"false\" class=\"D3Qfie VfPpkd-ksKsZd-XxIAqe UQI9cd kofMvc EFMXQ\" data-single-select=\"true\" id=\"1\" jsaction=\"click:cOuCgd; mousedown:UX7yZ; mouseup:lbsD7e; mouseenter:tfO1Yc; mouseleave:JywGue; touchstart:p6p2H; touchmove:FwuNnf; touchend:yfqBxc; touchcancel:JMtRjd; focus:AHmuwe; blur:O22p3e; contextmenu:mg9Pef;jzJ2q:RgMCxe\" jscontroller=\"fdeHmf\" role=\"button\" tabindex=\"0\"><div aria-hidden=\"true\" class=\"Gggmbb\"></div><div aria-hidden=\"true\" class=\"kW9Bj\"><span class=\"c6xzBd jv2yne\" jsname=\"o9vyuc\"></span><span class=\"ypTNYd\" jsname=\"ODzDMd\">예</span></div></div><div aria-label=\"아니요\" aria-pressed=\"false\" class=\"D3Qfie VfPpkd-ksKsZd-XxIAqe UQI9cd kofMvc EFMXQ\" data-single-select=\"true\" id=\"2\" jsaction=\"click:cOuCgd; mousedown:UX7yZ; mouseup:lbsD7e; mouseenter:tfO1Yc; mouseleave:JywGue; touchstart:p6p2H; touchmove:FwuNnf; touchend:yfqBxc; touchcancel:JMtRjd; focus:AHmuwe; blur:O22p3e; contextmenu:mg9Pef;jzJ2q:RgMCxe\" jscontroller=\"fdeHmf\" role=\"button\" tabindex=\"0\"><div aria-hidden=\"true\" class=\"Gggmbb\"></div><div aria-hidden=\"true\" class=\"kW9Bj\"><span class=\"c6xzBd jv2yne\" jsname=\"o9vyuc\"></span><span class=\"ypTNYd\" jsname=\"ODzDMd\">아니요</span></div></div></div></div></footer></div></div>\n",
      "review num 2665\n",
      "<div class=\"RHo1pe\"><header class=\"c1bOId\" data-review-id=\"9f96bddb-6fa1-405d-87fc-ea7fd8f9541a\" jsaction=\"rcuQ6b:SIRhf\" jscontroller=\"j9sf1\"><div class=\"YNR7H\"><div class=\"gSGphe\"><img aria-hidden=\"true\" class=\"T75of abYEib\" loading=\"lazy\" src=\"https://play-lh.googleusercontent.com/EGemoI2NTXmTsBVtJqk8jxF9rh8ApRWfsIMQSt2uE4OcpQqbFu7f7NbTK05lx80nuSijCz7sc3a277R67g=s32-rw\" srcset=\"https://play-lh.googleusercontent.com/EGemoI2NTXmTsBVtJqk8jxF9rh8ApRWfsIMQSt2uE4OcpQqbFu7f7NbTK05lx80nuSijCz7sc3a277R67g=s64-rw 2x\"/><div class=\"X5PpBb\">Google 사용자</div></div><div jsaction=\"FzgWvd:uXu05d\"><div class=\"VfPpkd-xl07Ob-XxIAqe-OWXEXe-oYxtQd\" data-disable-idom=\"true\" jsaction=\"JIbuQc:aj0Jcf(WjL7X); keydown:uYT2Vb(WjL7X);iFFCZc:oNPcuf;Rld2oe:li9Srb\" jscontroller=\"wg1P6b\" jsname=\"L2ufaf\" jsshadow=\"\"><div jsname=\"WjL7X\" jsslot=\"\"><button aria-controls=\"UM33ifc365700\" aria-expanded=\"false\" aria-haspopup=\"menu\" aria-label=\"추가 리뷰 작업\" class=\"VfPpkd-Bz112c-LgbsSe yHy1rc eT1oJ mN1ivc\" data-disable-idom=\"true\" jsaction=\"click:cOuCgd; mousedown:UX7yZ; mouseup:lbsD7e; mouseenter:tfO1Yc; mouseleave:JywGue; touchstart:p6p2H; touchmove:FwuNnf; touchend:yfqBxc; touchcancel:JMtRjd; focus:AHmuwe; blur:O22p3e; contextmenu:mg9Pef;mlnRJb:fLiPzd\" jscontroller=\"soHxf\"><div class=\"VfPpkd-Bz112c-Jh9lGc\" jsname=\"s3Eaab\"></div><div class=\"VfPpkd-Bz112c-J1Ukfc-LhBDec\"></div><i aria-hidden=\"true\" class=\"material-icons-extended VfPpkd-kBDsod\">more_vert</i></button></div><div jsname=\"U0exHf\" jsslot=\"\"> <div class=\"VfPpkd-xl07Ob-XxIAqe VfPpkd-xl07Ob q6oraf P77izf B6Yvkd\" data-disable-idom=\"true\" data-is-hoisted=\"false\" data-should-flip-corner-horizontally=\"false\" id=\"UM33ifc365700\" jsaction=\"keydown:I481le;JIbuQc:j697N(rymPhb);XVaHYd:c9v4Fb(rymPhb);Oyo5M:b5fzT(rymPhb);DimkCe:TQSy7b(rymPhb);m0LGSd:fAWgXe(rymPhb);WAiFGd:kVJJuc(rymPhb)\" jscontroller=\"ywOR5c\"><ul aria-label=\"추가 리뷰 작업\" class=\"VfPpkd-StrnGf-rymPhb DMZ54e\" data-disable-idom=\"true\" jsaction=\"mouseleave:JywGue; touchcancel:JMtRjd; focus:AHmuwe; blur:O22p3e; keydown:I481le\" jscontroller=\"PHUIyb\" jsname=\"rymPhb\" role=\"menu\" tabindex=\"-1\"><span aria-hidden=\"true\" class=\"VfPpkd-BFbNVe-bF1uUb NZp2ef\"></span><li class=\"bO7Z3c VfPpkd-StrnGf-rymPhb-ibnC6b\" data-option=\"2\" jsaction=\"click:o6ZaF;keydown:RDtNu; keyup:JdS61c; focusin:MeMJlc; focusout:bkTmIf;mousedown:teoBgf; mouseup:NZPHBc; mouseenter:SKyDAe; mouseleave:xq3APb; touchstart:jJiBRc; touchmove:kZeBdd; touchend:VfAz8; change:uOgbud\" role=\"menuitem\" tabindex=\"-1\"><span class=\"VfPpkd-StrnGf-rymPhb-pZXsl\"></span><span class=\"VfPpkd-StrnGf-rymPhb-b9t22c\" jsname=\"K4r5Ff\">부적절한 리뷰로 신고</span></li></ul></div></div></div></div></div><div class=\"Jx4nYe\"><div aria-label=\"별표 5개 만점에 1개를 받았습니다.\" class=\"iXRFPc\" role=\"img\"><span aria-hidden=\"true\" class=\"F7XJmb\" data-number=\"1\" jsname=\"fI6EEc\"><span aria-hidden=\"true\" class=\"Z1Dz7b\"><svg viewbox=\"0 0 24 24\" xmlns=\"http://www.w3.org/2000/svg\"><path d=\"M0 0h24v24H0z\" fill=\"none\"></path><path d=\"M0 0h24v24H0z\" fill=\"none\"></path><path d=\"M12 17.27L18.18 21l-1.64-7.03L22 9.24l-7.19-.61L12 2 9.19 8.63 2 9.24l5.46 4.73L5.82 21z\"></path></svg></span></span><span aria-hidden=\"true\" class=\"F7XJmb\" data-number=\"2\" jsname=\"fI6EEc\"><span aria-hidden=\"true\" class=\"Wi7KIe\"><svg viewbox=\"0 0 24 24\" xmlns=\"http://www.w3.org/2000/svg\"><path d=\"M0 0h24v24H0z\" fill=\"none\"></path><path d=\"M0 0h24v24H0z\" fill=\"none\"></path><path d=\"M12 17.27L18.18 21l-1.64-7.03L22 9.24l-7.19-.61L12 2 9.19 8.63 2 9.24l5.46 4.73L5.82 21z\"></path></svg></span></span><span aria-hidden=\"true\" class=\"F7XJmb\" data-number=\"3\" jsname=\"fI6EEc\"><span aria-hidden=\"true\" class=\"Wi7KIe\"><svg viewbox=\"0 0 24 24\" xmlns=\"http://www.w3.org/2000/svg\"><path d=\"M0 0h24v24H0z\" fill=\"none\"></path><path d=\"M0 0h24v24H0z\" fill=\"none\"></path><path d=\"M12 17.27L18.18 21l-1.64-7.03L22 9.24l-7.19-.61L12 2 9.19 8.63 2 9.24l5.46 4.73L5.82 21z\"></path></svg></span></span><span aria-hidden=\"true\" class=\"F7XJmb\" data-number=\"4\" jsname=\"fI6EEc\"><span aria-hidden=\"true\" class=\"Wi7KIe\"><svg viewbox=\"0 0 24 24\" xmlns=\"http://www.w3.org/2000/svg\"><path d=\"M0 0h24v24H0z\" fill=\"none\"></path><path d=\"M0 0h24v24H0z\" fill=\"none\"></path><path d=\"M12 17.27L18.18 21l-1.64-7.03L22 9.24l-7.19-.61L12 2 9.19 8.63 2 9.24l5.46 4.73L5.82 21z\"></path></svg></span></span><span aria-hidden=\"true\" class=\"F7XJmb\" data-number=\"5\" jsname=\"fI6EEc\"><span aria-hidden=\"true\" class=\"Wi7KIe\"><svg viewbox=\"0 0 24 24\" xmlns=\"http://www.w3.org/2000/svg\"><path d=\"M0 0h24v24H0z\" fill=\"none\"></path><path d=\"M0 0h24v24H0z\" fill=\"none\"></path><path d=\"M12 17.27L18.18 21l-1.64-7.03L22 9.24l-7.19-.61L12 2 9.19 8.63 2 9.24l5.46 4.73L5.82 21z\"></path></svg></span></span></div><span class=\"bp9Aid\">2014년 2월 17일</span></div></header><div data-original-thumbs-up-count=\"0\" data-review-id=\"9f96bddb-6fa1-405d-87fc-ea7fd8f9541a\" jscontroller=\"SWD8cc\"><footer class=\"Anb3we\" jsaction=\"sG2nqb:sY4eAb\" jsname=\"GJNbDf\"><div class=\"NC0Ppb\">이 리뷰가 유용했나요?</div><div data-expanded-toggles=\"true\" jsaction=\"rcuQ6b:BZEmlb;JIbuQc:TmtE8e\" jscontroller=\"wW2D8b\" jsmodel=\"b7Ourf\"><div class=\"b6SkTb\"><div aria-label=\"예\" aria-pressed=\"false\" class=\"D3Qfie VfPpkd-ksKsZd-XxIAqe UQI9cd kofMvc EFMXQ\" data-single-select=\"true\" id=\"1\" jsaction=\"click:cOuCgd; mousedown:UX7yZ; mouseup:lbsD7e; mouseenter:tfO1Yc; mouseleave:JywGue; touchstart:p6p2H; touchmove:FwuNnf; touchend:yfqBxc; touchcancel:JMtRjd; focus:AHmuwe; blur:O22p3e; contextmenu:mg9Pef;jzJ2q:RgMCxe\" jscontroller=\"fdeHmf\" role=\"button\" tabindex=\"0\"><div aria-hidden=\"true\" class=\"Gggmbb\"></div><div aria-hidden=\"true\" class=\"kW9Bj\"><span class=\"c6xzBd jv2yne\" jsname=\"o9vyuc\"></span><span class=\"ypTNYd\" jsname=\"ODzDMd\">예</span></div></div><div aria-label=\"아니요\" aria-pressed=\"false\" class=\"D3Qfie VfPpkd-ksKsZd-XxIAqe UQI9cd kofMvc EFMXQ\" data-single-select=\"true\" id=\"2\" jsaction=\"click:cOuCgd; mousedown:UX7yZ; mouseup:lbsD7e; mouseenter:tfO1Yc; mouseleave:JywGue; touchstart:p6p2H; touchmove:FwuNnf; touchend:yfqBxc; touchcancel:JMtRjd; focus:AHmuwe; blur:O22p3e; contextmenu:mg9Pef;jzJ2q:RgMCxe\" jscontroller=\"fdeHmf\" role=\"button\" tabindex=\"0\"><div aria-hidden=\"true\" class=\"Gggmbb\"></div><div aria-hidden=\"true\" class=\"kW9Bj\"><span class=\"c6xzBd jv2yne\" jsname=\"o9vyuc\"></span><span class=\"ypTNYd\" jsname=\"ODzDMd\">아니요</span></div></div></div></div></footer></div></div>\n",
      "review num 2666\n",
      "<div class=\"RHo1pe\"><header class=\"c1bOId\" data-review-id=\"25e49613-0374-4842-9829-c3fa4aa4ec47\" jsaction=\"rcuQ6b:SIRhf\" jscontroller=\"j9sf1\"><div class=\"YNR7H\"><div class=\"gSGphe\"><img aria-hidden=\"true\" class=\"T75of abYEib\" loading=\"lazy\" src=\"https://play-lh.googleusercontent.com/EGemoI2NTXmTsBVtJqk8jxF9rh8ApRWfsIMQSt2uE4OcpQqbFu7f7NbTK05lx80nuSijCz7sc3a277R67g=s32-rw\" srcset=\"https://play-lh.googleusercontent.com/EGemoI2NTXmTsBVtJqk8jxF9rh8ApRWfsIMQSt2uE4OcpQqbFu7f7NbTK05lx80nuSijCz7sc3a277R67g=s64-rw 2x\"/><div class=\"X5PpBb\">Google 사용자</div></div><div jsaction=\"FzgWvd:uXu05d\"><div class=\"VfPpkd-xl07Ob-XxIAqe-OWXEXe-oYxtQd\" data-disable-idom=\"true\" jsaction=\"JIbuQc:aj0Jcf(WjL7X); keydown:uYT2Vb(WjL7X);iFFCZc:oNPcuf;Rld2oe:li9Srb\" jscontroller=\"wg1P6b\" jsname=\"L2ufaf\" jsshadow=\"\"><div jsname=\"WjL7X\" jsslot=\"\"><button aria-controls=\"UM33ifc365701\" aria-expanded=\"false\" aria-haspopup=\"menu\" aria-label=\"추가 리뷰 작업\" class=\"VfPpkd-Bz112c-LgbsSe yHy1rc eT1oJ mN1ivc\" data-disable-idom=\"true\" jsaction=\"click:cOuCgd; mousedown:UX7yZ; mouseup:lbsD7e; mouseenter:tfO1Yc; mouseleave:JywGue; touchstart:p6p2H; touchmove:FwuNnf; touchend:yfqBxc; touchcancel:JMtRjd; focus:AHmuwe; blur:O22p3e; contextmenu:mg9Pef;mlnRJb:fLiPzd\" jscontroller=\"soHxf\"><div class=\"VfPpkd-Bz112c-Jh9lGc\" jsname=\"s3Eaab\"></div><div class=\"VfPpkd-Bz112c-J1Ukfc-LhBDec\"></div><i aria-hidden=\"true\" class=\"material-icons-extended VfPpkd-kBDsod\">more_vert</i></button></div><div jsname=\"U0exHf\" jsslot=\"\"> <div class=\"VfPpkd-xl07Ob-XxIAqe VfPpkd-xl07Ob q6oraf P77izf B6Yvkd\" data-disable-idom=\"true\" data-is-hoisted=\"false\" data-should-flip-corner-horizontally=\"false\" id=\"UM33ifc365701\" jsaction=\"keydown:I481le;JIbuQc:j697N(rymPhb);XVaHYd:c9v4Fb(rymPhb);Oyo5M:b5fzT(rymPhb);DimkCe:TQSy7b(rymPhb);m0LGSd:fAWgXe(rymPhb);WAiFGd:kVJJuc(rymPhb)\" jscontroller=\"ywOR5c\"><ul aria-label=\"추가 리뷰 작업\" class=\"VfPpkd-StrnGf-rymPhb DMZ54e\" data-disable-idom=\"true\" jsaction=\"mouseleave:JywGue; touchcancel:JMtRjd; focus:AHmuwe; blur:O22p3e; keydown:I481le\" jscontroller=\"PHUIyb\" jsname=\"rymPhb\" role=\"menu\" tabindex=\"-1\"><span aria-hidden=\"true\" class=\"VfPpkd-BFbNVe-bF1uUb NZp2ef\"></span><li class=\"bO7Z3c VfPpkd-StrnGf-rymPhb-ibnC6b\" data-option=\"2\" jsaction=\"click:o6ZaF;keydown:RDtNu; keyup:JdS61c; focusin:MeMJlc; focusout:bkTmIf;mousedown:teoBgf; mouseup:NZPHBc; mouseenter:SKyDAe; mouseleave:xq3APb; touchstart:jJiBRc; touchmove:kZeBdd; touchend:VfAz8; change:uOgbud\" role=\"menuitem\" tabindex=\"-1\"><span class=\"VfPpkd-StrnGf-rymPhb-pZXsl\"></span><span class=\"VfPpkd-StrnGf-rymPhb-b9t22c\" jsname=\"K4r5Ff\">부적절한 리뷰로 신고</span></li></ul></div></div></div></div></div><div class=\"Jx4nYe\"><div aria-label=\"별표 5개 만점에 5개를 받았습니다.\" class=\"iXRFPc\" role=\"img\"><span aria-hidden=\"true\" class=\"F7XJmb\" data-number=\"1\" jsname=\"fI6EEc\"><span aria-hidden=\"true\" class=\"Z1Dz7b\"><svg viewbox=\"0 0 24 24\" xmlns=\"http://www.w3.org/2000/svg\"><path d=\"M0 0h24v24H0z\" fill=\"none\"></path><path d=\"M0 0h24v24H0z\" fill=\"none\"></path><path d=\"M12 17.27L18.18 21l-1.64-7.03L22 9.24l-7.19-.61L12 2 9.19 8.63 2 9.24l5.46 4.73L5.82 21z\"></path></svg></span></span><span aria-hidden=\"true\" class=\"F7XJmb\" data-number=\"2\" jsname=\"fI6EEc\"><span aria-hidden=\"true\" class=\"Z1Dz7b\"><svg viewbox=\"0 0 24 24\" xmlns=\"http://www.w3.org/2000/svg\"><path d=\"M0 0h24v24H0z\" fill=\"none\"></path><path d=\"M0 0h24v24H0z\" fill=\"none\"></path><path d=\"M12 17.27L18.18 21l-1.64-7.03L22 9.24l-7.19-.61L12 2 9.19 8.63 2 9.24l5.46 4.73L5.82 21z\"></path></svg></span></span><span aria-hidden=\"true\" class=\"F7XJmb\" data-number=\"3\" jsname=\"fI6EEc\"><span aria-hidden=\"true\" class=\"Z1Dz7b\"><svg viewbox=\"0 0 24 24\" xmlns=\"http://www.w3.org/2000/svg\"><path d=\"M0 0h24v24H0z\" fill=\"none\"></path><path d=\"M0 0h24v24H0z\" fill=\"none\"></path><path d=\"M12 17.27L18.18 21l-1.64-7.03L22 9.24l-7.19-.61L12 2 9.19 8.63 2 9.24l5.46 4.73L5.82 21z\"></path></svg></span></span><span aria-hidden=\"true\" class=\"F7XJmb\" data-number=\"4\" jsname=\"fI6EEc\"><span aria-hidden=\"true\" class=\"Z1Dz7b\"><svg viewbox=\"0 0 24 24\" xmlns=\"http://www.w3.org/2000/svg\"><path d=\"M0 0h24v24H0z\" fill=\"none\"></path><path d=\"M0 0h24v24H0z\" fill=\"none\"></path><path d=\"M12 17.27L18.18 21l-1.64-7.03L22 9.24l-7.19-.61L12 2 9.19 8.63 2 9.24l5.46 4.73L5.82 21z\"></path></svg></span></span><span aria-hidden=\"true\" class=\"F7XJmb\" data-number=\"5\" jsname=\"fI6EEc\"><span aria-hidden=\"true\" class=\"Z1Dz7b\"><svg viewbox=\"0 0 24 24\" xmlns=\"http://www.w3.org/2000/svg\"><path d=\"M0 0h24v24H0z\" fill=\"none\"></path><path d=\"M0 0h24v24H0z\" fill=\"none\"></path><path d=\"M12 17.27L18.18 21l-1.64-7.03L22 9.24l-7.19-.61L12 2 9.19 8.63 2 9.24l5.46 4.73L5.82 21z\"></path></svg></span></span></div><span class=\"bp9Aid\">2014년 2월 25일</span></div></header><div data-original-thumbs-up-count=\"0\" data-review-id=\"25e49613-0374-4842-9829-c3fa4aa4ec47\" jscontroller=\"SWD8cc\"><footer class=\"Anb3we\" jsaction=\"sG2nqb:sY4eAb\" jsname=\"GJNbDf\"><div class=\"NC0Ppb\">이 리뷰가 유용했나요?</div><div data-expanded-toggles=\"true\" jsaction=\"rcuQ6b:BZEmlb;JIbuQc:TmtE8e\" jscontroller=\"wW2D8b\" jsmodel=\"b7Ourf\"><div class=\"b6SkTb\"><div aria-label=\"예\" aria-pressed=\"false\" class=\"D3Qfie VfPpkd-ksKsZd-XxIAqe UQI9cd kofMvc EFMXQ\" data-single-select=\"true\" id=\"1\" jsaction=\"click:cOuCgd; mousedown:UX7yZ; mouseup:lbsD7e; mouseenter:tfO1Yc; mouseleave:JywGue; touchstart:p6p2H; touchmove:FwuNnf; touchend:yfqBxc; touchcancel:JMtRjd; focus:AHmuwe; blur:O22p3e; contextmenu:mg9Pef;jzJ2q:RgMCxe\" jscontroller=\"fdeHmf\" role=\"button\" tabindex=\"0\"><div aria-hidden=\"true\" class=\"Gggmbb\"></div><div aria-hidden=\"true\" class=\"kW9Bj\"><span class=\"c6xzBd jv2yne\" jsname=\"o9vyuc\"></span><span class=\"ypTNYd\" jsname=\"ODzDMd\">예</span></div></div><div aria-label=\"아니요\" aria-pressed=\"false\" class=\"D3Qfie VfPpkd-ksKsZd-XxIAqe UQI9cd kofMvc EFMXQ\" data-single-select=\"true\" id=\"2\" jsaction=\"click:cOuCgd; mousedown:UX7yZ; mouseup:lbsD7e; mouseenter:tfO1Yc; mouseleave:JywGue; touchstart:p6p2H; touchmove:FwuNnf; touchend:yfqBxc; touchcancel:JMtRjd; focus:AHmuwe; blur:O22p3e; contextmenu:mg9Pef;jzJ2q:RgMCxe\" jscontroller=\"fdeHmf\" role=\"button\" tabindex=\"0\"><div aria-hidden=\"true\" class=\"Gggmbb\"></div><div aria-hidden=\"true\" class=\"kW9Bj\"><span class=\"c6xzBd jv2yne\" jsname=\"o9vyuc\"></span><span class=\"ypTNYd\" jsname=\"ODzDMd\">아니요</span></div></div></div></div></footer></div></div>\n"
     ]
    },
    {
     "ename": "IndexError",
     "evalue": "list index out of range",
     "output_type": "error",
     "traceback": [
      "\u001b[0;31m---------------------------------------------------------------------------\u001b[0m",
      "\u001b[0;31mIndexError\u001b[0m                                Traceback (most recent call last)",
      "\u001b[0;32m<ipython-input-10-2945fb6dbb88>\u001b[0m in \u001b[0;36m<module>\u001b[0;34m\u001b[0m\n\u001b[1;32m      9\u001b[0m     \u001b[0mreview_num\u001b[0m\u001b[0;34m+=\u001b[0m\u001b[0;36m1\u001b[0m\u001b[0;34m\u001b[0m\u001b[0;34m\u001b[0m\u001b[0m\n\u001b[1;32m     10\u001b[0m     \u001b[0;31m# 리뷰 등록일 데이터 추출\u001b[0m\u001b[0;34m\u001b[0m\u001b[0;34m\u001b[0m\u001b[0;34m\u001b[0m\u001b[0m\n\u001b[0;32m---> 11\u001b[0;31m     \u001b[0mdate_full\u001b[0m \u001b[0;34m=\u001b[0m \u001b[0mreview\u001b[0m\u001b[0;34m.\u001b[0m\u001b[0mfind_all\u001b[0m\u001b[0;34m(\u001b[0m\u001b[0mclass_\u001b[0m \u001b[0;34m=\u001b[0m \u001b[0;34m'bp9Aid'\u001b[0m\u001b[0;34m)\u001b[0m\u001b[0;34m[\u001b[0m\u001b[0;36m0\u001b[0m\u001b[0;34m]\u001b[0m\u001b[0;34m.\u001b[0m\u001b[0mtext\u001b[0m\u001b[0;34m\u001b[0m\u001b[0;34m\u001b[0m\u001b[0m\n\u001b[0m\u001b[1;32m     12\u001b[0m     \u001b[0mdate_year\u001b[0m \u001b[0;34m=\u001b[0m \u001b[0mdate_full\u001b[0m\u001b[0;34m[\u001b[0m\u001b[0;36m0\u001b[0m\u001b[0;34m:\u001b[0m\u001b[0;36m4\u001b[0m\u001b[0;34m]\u001b[0m \u001b[0;31m# 연도 데이터 추출\u001b[0m\u001b[0;34m\u001b[0m\u001b[0;34m\u001b[0m\u001b[0m\n\u001b[1;32m     13\u001b[0m     \u001b[0;31m# 해당 단어가 등장한 인덱스 추출\u001b[0m\u001b[0;34m\u001b[0m\u001b[0;34m\u001b[0m\u001b[0;34m\u001b[0m\u001b[0m\n",
      "\u001b[0;31mIndexError\u001b[0m: list index out of range"
     ]
    }
   ],
   "source": [
    "# 리뷰 데이터 클래스 접근\n",
    "review_source = soup_source.find_all(class_ = 'RHo1pe')\n",
    "# 리뷰 데이터 저장용 배열\n",
    "dataset = []\n",
    "# 데이터 넘버링을 위한 변수\n",
    "review_num = 0 \n",
    "# 리뷰 1개씩 접근해 정보 추출\n",
    "for review in review_source:\n",
    "    review_num+=1\n",
    "    # 리뷰 등록일 데이터 추출\n",
    "    date_full = review.find_all(class_ = 'bp9Aid')[0].text\n",
    "    date_year = date_full[0:4] # 연도 데이터 추출\n",
    "    # 해당 단어가 등장한 인덱스 추출\n",
    "    year_index = date_full.find('년')\n",
    "    month_index = date_full.find('월')\n",
    "    day_index = date_full.find('일')\n",
    "    \n",
    "    date_month = str(int(date_full[year_index+1:month_index])) # 월(Month) 데이터 추출\n",
    "    # 월 정보가 1자리의 경우 앞에 0 붙이기(e.g., 1월 -> 01월)\n",
    "    if len(date_month) == 1:\n",
    "        date_month = '0' + date_month\n",
    "    \n",
    "    date_day = str(int(date_full[month_index+1:day_index])) # 일(Day) 데이터 추출 \n",
    "    # 일 정보가 1자리의 경우 앞에 0 붙여줌(e.g., 7일 -> 07일)\n",
    "    if len(date_day) == 1:\n",
    "        date_day = '0' + date_day\n",
    "    \n",
    "    # 리뷰 등록일 full version은 최종적으로 yyyymmdd 형태로 저장\n",
    "    date_full = date_year + date_month + date_day\n",
    "    user_name = review.find_all(class_ = 'X5PpBb')[0].text # 닉네임 데이터 추출\n",
    "    rating = review.find_all(class_ = \"iXRFPc\")[0]['aria-label'][10] # 평점 데이터 추출\n",
    "    try:\n",
    "        content = review.find_all(class_ = 'h3YV2d')[0].text # 리뷰 데이터 추출\n",
    "    except:    # 예외가 발생했을 때 실행됨\n",
    "        print(\"review num\", review_num)\n",
    "        print(review)\n",
    "\n",
    "#     content = review.find_all(class_ = 'h3YV2d')[0].text # 리뷰 데이터 추출\n",
    "\n",
    "    data = {\n",
    "        \"id\": review_num, \n",
    "        \"date\": date_full,\n",
    "        \"dateYear\": date_year,\n",
    "        \"dateMonth\": date_month,\n",
    "        \"dateDay\": date_day,\n",
    "        \"rating\": rating,\n",
    "        \"userName\": user_name,\n",
    "        \"content\": content\n",
    "    }\n",
    "    dataset.append(data)"
   ]
  },
  {
   "cell_type": "code",
   "execution_count": null,
   "metadata": {},
   "outputs": [],
   "source": [
    "df = pd.DataFrame(dataset)\n",
    "df.to_csv('./fatsecret_review_dataset.csv', encoding = 'utf-8-sig') # csv 파일로 저장"
   ]
  },
  {
   "cell_type": "code",
   "execution_count": null,
   "metadata": {},
   "outputs": [],
   "source": [
    "# 저장한 리뷰 정보 불러오기\n",
    "df = pd.read_csv('./fatsecret_review_dataset.csv', encoding = 'utf-8-sig')\n",
    "df = df.drop(['Unnamed: 0'], axis = 1) # 불필요한 칼럼 삭제\n",
    "df"
   ]
  },
  {
   "cell_type": "code",
   "execution_count": null,
   "metadata": {},
   "outputs": [],
   "source": []
  }
 ],
 "metadata": {
  "kernelspec": {
   "display_name": "Python 3",
   "language": "python",
   "name": "python3"
  },
  "language_info": {
   "codemirror_mode": {
    "name": "ipython",
    "version": 3
   },
   "file_extension": ".py",
   "mimetype": "text/x-python",
   "name": "python",
   "nbconvert_exporter": "python",
   "pygments_lexer": "ipython3",
   "version": "3.7.6"
  }
 },
 "nbformat": 4,
 "nbformat_minor": 4
}
