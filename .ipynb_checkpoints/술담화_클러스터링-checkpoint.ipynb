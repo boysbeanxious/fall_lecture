{
 "cells": [
  {
   "cell_type": "code",
   "execution_count": 1,
   "metadata": {},
   "outputs": [],
   "source": [
    "import psycopg2\n",
    "import networkx as nx\n",
    "from networkx.algorithms import bipartite\n",
    "import numpy as np\n",
    "import pandas as pd\n",
    "import matplotlib.pyplot as plt\n",
    "%matplotlib inline"
   ]
  },
  {
   "cell_type": "code",
   "execution_count": 2,
   "metadata": {},
   "outputs": [],
   "source": [
    "connection = psycopg2.connect(\n",
    "    host = '152.70.249.200',\n",
    "    database = 'kdsg_sooldamwha',\n",
    "    user = 'kdsg',\n",
    "    password = 'kdsg1234')\n",
    "cursor = connection.cursor()\n",
    "cursor.execute(\" select id, r, minmax_r , f, minmax_f , m, minmax_m from cluster_rfm\")\n",
    "result = cursor.fetchall()\n",
    "# connection.commit()"
   ]
  },
  {
   "cell_type": "code",
   "execution_count": 3,
   "metadata": {},
   "outputs": [],
   "source": [
    "df_order = pd.DataFrame(result, columns = ['id', 'r', 'minmax_r' , 'f', 'minmax_f' , 'm', 'minmax_m'])"
   ]
  },
  {
   "cell_type": "code",
   "execution_count": 4,
   "metadata": {
    "scrolled": true
   },
   "outputs": [
    {
     "data": {
      "text/html": [
       "<div>\n",
       "<style scoped>\n",
       "    .dataframe tbody tr th:only-of-type {\n",
       "        vertical-align: middle;\n",
       "    }\n",
       "\n",
       "    .dataframe tbody tr th {\n",
       "        vertical-align: top;\n",
       "    }\n",
       "\n",
       "    .dataframe thead th {\n",
       "        text-align: right;\n",
       "    }\n",
       "</style>\n",
       "<table border=\"1\" class=\"dataframe\">\n",
       "  <thead>\n",
       "    <tr style=\"text-align: right;\">\n",
       "      <th></th>\n",
       "      <th>id</th>\n",
       "      <th>r</th>\n",
       "      <th>minmax_r</th>\n",
       "      <th>f</th>\n",
       "    </tr>\n",
       "  </thead>\n",
       "  <tbody>\n",
       "    <tr>\n",
       "      <th>count</th>\n",
       "      <td>35957.000000</td>\n",
       "      <td>35957.000000</td>\n",
       "      <td>35957.000000</td>\n",
       "      <td>35957.000000</td>\n",
       "    </tr>\n",
       "    <tr>\n",
       "      <th>mean</th>\n",
       "      <td>45980.707845</td>\n",
       "      <td>45.715660</td>\n",
       "      <td>0.752952</td>\n",
       "      <td>2.262870</td>\n",
       "    </tr>\n",
       "    <tr>\n",
       "      <th>std</th>\n",
       "      <td>24601.898708</td>\n",
       "      <td>33.471672</td>\n",
       "      <td>0.184926</td>\n",
       "      <td>2.868136</td>\n",
       "    </tr>\n",
       "    <tr>\n",
       "      <th>min</th>\n",
       "      <td>120.000000</td>\n",
       "      <td>1.000000</td>\n",
       "      <td>0.000000</td>\n",
       "      <td>1.000000</td>\n",
       "    </tr>\n",
       "    <tr>\n",
       "      <th>25%</th>\n",
       "      <td>25057.000000</td>\n",
       "      <td>20.000000</td>\n",
       "      <td>0.651934</td>\n",
       "      <td>1.000000</td>\n",
       "    </tr>\n",
       "    <tr>\n",
       "      <th>50%</th>\n",
       "      <td>46892.000000</td>\n",
       "      <td>40.000000</td>\n",
       "      <td>0.784530</td>\n",
       "      <td>1.000000</td>\n",
       "    </tr>\n",
       "    <tr>\n",
       "      <th>75%</th>\n",
       "      <td>66890.000000</td>\n",
       "      <td>64.000000</td>\n",
       "      <td>0.895028</td>\n",
       "      <td>3.000000</td>\n",
       "    </tr>\n",
       "    <tr>\n",
       "      <th>max</th>\n",
       "      <td>89364.000000</td>\n",
       "      <td>182.000000</td>\n",
       "      <td>1.000000</td>\n",
       "      <td>131.000000</td>\n",
       "    </tr>\n",
       "  </tbody>\n",
       "</table>\n",
       "</div>"
      ],
      "text/plain": [
       "                 id             r      minmax_r             f\n",
       "count  35957.000000  35957.000000  35957.000000  35957.000000\n",
       "mean   45980.707845     45.715660      0.752952      2.262870\n",
       "std    24601.898708     33.471672      0.184926      2.868136\n",
       "min      120.000000      1.000000      0.000000      1.000000\n",
       "25%    25057.000000     20.000000      0.651934      1.000000\n",
       "50%    46892.000000     40.000000      0.784530      1.000000\n",
       "75%    66890.000000     64.000000      0.895028      3.000000\n",
       "max    89364.000000    182.000000      1.000000    131.000000"
      ]
     },
     "execution_count": 4,
     "metadata": {},
     "output_type": "execute_result"
    }
   ],
   "source": [
    "df_order.describe()"
   ]
  },
  {
   "cell_type": "code",
   "execution_count": 5,
   "metadata": {},
   "outputs": [],
   "source": [
    "# 맥북 그래프 출력 시 한글 깨짐 현상으로 코드 추가 \n",
    "from matplotlib import rc\n",
    "import platform \n",
    "\n",
    "if platform.system()=='Darwin' : \n",
    "    rc('font', family='AppleGothic')\n",
    "    plt.rcParams['axes.unicode_minus'] = False"
   ]
  },
  {
   "cell_type": "code",
   "execution_count": null,
   "metadata": {},
   "outputs": [],
   "source": [
    "from sklearn.cluster import KMeans\n",
    "from sklearn.metrics import silhouette_score\n",
    "\n",
    "inertia_list = []\n",
    "silhouette_list = []\n",
    "kmeans_per_k = []\n",
    "\n",
    "# grid search를 통해 클러스터 개수 바꾸어가며 결과 확인 \n",
    "cluster_num = range(2, 15)\n",
    "for i in cluster_num:\n",
    "    \n",
    "    # 그룹 수, random_state 설정\n",
    "    model = KMeans(n_clusters = i, random_state = 10)\n",
    "\n",
    "    # 정규화된 데이터에 학습\n",
    "    model.fit(df_order[['minmax_r', 'minmax_f', 'minmax_m']])\n",
    "\n",
    "    # 클러스터링 결과 각 데이터가 몇 번째 그룹에 속하는지 저장\n",
    "    df_order['cluster'] = model.fit_predict(df_order[['minmax_r', 'minmax_f', 'minmax_m']])\n",
    "    \n",
    "    # 클러스터 개수 별 이너셔 값 확인을 위해 데이터 저장 \n",
    "    inertia_list = np.append(inertia_list, model.inertia_)\n",
    "    # 클러스터 개수 별 실루엣 값 확인을 위해 데이터 저장 \n",
    "    silhouette_list = np.append(silhouette_list, silhouette_score(df_order[['minmax_r', 'minmax_f', 'minmax_m']], model.labels_))\n",
    "    # 추후 모델 재사용을 위해 모델 저장\n",
    "    kmeans_per_k.append(model)\n",
    "    "
   ]
  },
  {
   "cell_type": "code",
   "execution_count": null,
   "metadata": {},
   "outputs": [],
   "source": [
    "# https://matplotlib.org/3.5.0/tutorials/colors/colormaps.html\n",
    "# 실루엣 점수 시각화\n",
    "## 엘보 지점이 가장 좋은데 뚜렷하게 보이지 않아 실루엣 계수 확인 진행 \n",
    "plt.plot(cluster_num, inertia_list, color = '#008000')\n",
    "plt.title('클러스터 개수 별 이너셔 점수 시각화')\n",
    "plt.show()"
   ]
  },
  {
   "cell_type": "code",
   "execution_count": null,
   "metadata": {},
   "outputs": [],
   "source": [
    "# 실루엣계수 그래프\n",
    "# 1에 가까울수록 좋은 모델인데, 갈수록 낮아짐\n",
    "# 3 혹은 5 가 좋은 클러스터 개수일것으로 보임\n",
    "# 추가적으로 실루엣 그래프 확인\n",
    "plt.plot(cluster_num, silhouette_list, color = '#008000')\n",
    "plt.xticks(np.arange(2, 15))\n",
    "plt.axvline(x=3, color='r', linestyle='--', linewidth=2)\n",
    "plt.axvline(x=5, color='r', linestyle='--', linewidth=2)\n",
    "plt.title('클러스터 개수 별 실루엣 계수 시각화')\n",
    "plt.show()"
   ]
  },
  {
   "cell_type": "markdown",
   "metadata": {},
   "source": [
    "# productid와 product optioin id를 합쳐서 V노드로 생성 필요 \n",
    "product 자리수: 0000 네자리수로 표현\n",
    "product_option_id자리수 : 0000네자리수로 표현\n",
    "\n",
    "> 신규 변수 생성 po_id \n"
   ]
  },
  {
   "cell_type": "code",
   "execution_count": null,
   "metadata": {},
   "outputs": [],
   "source": [
    "df_order['PRODUCT_ID'] = df_order['PRODUCT_ID'].astype('str')\n",
    "df_order['PRODUCT_OPTION_ID'] = df_order['PRODUCT_OPTION_ID'].astype('str')"
   ]
  },
  {
   "cell_type": "code",
   "execution_count": null,
   "metadata": {},
   "outputs": [],
   "source": [
    "df_order['PRODUCT_ID'] = df_order['PRODUCT_ID'].str.zfill(4)\n",
    "df_order['PRODUCT_OPTION_ID'] = df_order['PRODUCT_OPTION_ID'].str.zfill(4)"
   ]
  },
  {
   "cell_type": "code",
   "execution_count": null,
   "metadata": {},
   "outputs": [],
   "source": [
    "df_order['PO_ID'] = df_order['PRODUCT_ID']+df_order['PRODUCT_OPTION_ID']"
   ]
  },
  {
   "cell_type": "code",
   "execution_count": null,
   "metadata": {},
   "outputs": [],
   "source": [
    "U_nodes = list(df_order['ID'].drop_duplicates())\n",
    "V_nodes = list(df_order['PO_ID'].drop_duplicates())\n",
    "edgelist = list(zip(df_order['ID'], df_order['PO_ID']))"
   ]
  },
  {
   "cell_type": "code",
   "execution_count": null,
   "metadata": {},
   "outputs": [],
   "source": [
    "b = nx.Graph()\n",
    "b.add_nodes_from(U_nodes, bipartite=0)\n",
    "b.add_nodes_from(V_nodes, bipartite=1)\n",
    "\n",
    "b.add_edges_from(edgelist)"
   ]
  },
  {
   "cell_type": "code",
   "execution_count": null,
   "metadata": {},
   "outputs": [],
   "source": [
    "G = bipartite.projected_graph(b, U_nodes)"
   ]
  },
  {
   "cell_type": "code",
   "execution_count": null,
   "metadata": {},
   "outputs": [],
   "source": [
    "pk_internet = {}\n",
    "num_nodes = len(G.degree())\n",
    "for i in dict(G.degree()).values():\n",
    "    if i in pk_internet:\n",
    "        pk_internet[i] += 1/num_nodes\n",
    "    else:\n",
    "        pk_internet[i] = 1/num_nodes\n",
    "        \n",
    "x, y = zip(*pk_internet.items())"
   ]
  },
  {
   "cell_type": "code",
   "execution_count": null,
   "metadata": {},
   "outputs": [],
   "source": [
    "# db = \\\n",
    "# psycopg2.connect(host='152.70.249.200', dbname='kdsg_sooldamwha',user='kdsg',password='kdsg1234',port=5432)"
   ]
  },
  {
   "cell_type": "code",
   "execution_count": null,
   "metadata": {},
   "outputs": [],
   "source": []
  },
  {
   "cell_type": "code",
   "execution_count": null,
   "metadata": {},
   "outputs": [],
   "source": [
    "# cursor=db.cursor()"
   ]
  },
  {
   "cell_type": "code",
   "execution_count": null,
   "metadata": {},
   "outputs": [],
   "source": [
    "# def readDB(cursor, schema,table,colum):\n",
    "#     sql = \" SELECT {colum} from {schema}.{table}\".format(colum=colum,schema=schema,table=table)\n",
    "#     try:\n",
    "# #         self.cursor.execute(sql)\n",
    "#         cursor.execute(sql)\n",
    "#         result = cursor.fetchall()\n",
    "#     except Exception as e :\n",
    "#         result = (\" read DB err\",e)\n",
    "    \n",
    "#     return result"
   ]
  },
  {
   "cell_type": "code",
   "execution_count": null,
   "metadata": {},
   "outputs": [],
   "source": [
    "# print(readDB(cursor = cursor, schema='public',table='orders',colum=['id', 'product_id', 'product_option_id']))"
   ]
  },
  {
   "cell_type": "code",
   "execution_count": null,
   "metadata": {},
   "outputs": [],
   "source": []
  }
 ],
 "metadata": {
  "kernelspec": {
   "display_name": "Python 3",
   "language": "python",
   "name": "python3"
  },
  "language_info": {
   "codemirror_mode": {
    "name": "ipython",
    "version": 3
   },
   "file_extension": ".py",
   "mimetype": "text/x-python",
   "name": "python",
   "nbconvert_exporter": "python",
   "pygments_lexer": "ipython3",
   "version": "3.7.6"
  }
 },
 "nbformat": 4,
 "nbformat_minor": 4
}
