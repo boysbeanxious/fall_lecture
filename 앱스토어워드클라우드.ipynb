{
 "cells": [
  {
   "cell_type": "code",
   "execution_count": 3,
   "metadata": {},
   "outputs": [],
   "source": [
    "from wordcloud import WordCloud\n",
    "import matplotlib.pyplot as plt\n",
    "from collections import Counter\n",
    "from konlpy.tag import Okt\n",
    "from PIL import Image\n",
    "import numpy as np\n",
    "import pandas as pd"
   ]
  },
  {
   "cell_type": "code",
   "execution_count": 5,
   "metadata": {},
   "outputs": [],
   "source": [
    "df = pd.read_csv('./appstore_634598719.csv')"
   ]
  },
  {
   "cell_type": "code",
   "execution_count": 8,
   "metadata": {},
   "outputs": [
    {
     "data": {
      "text/plain": [
       "0                          안드로이드로는 잘 썼는데 아이폰에서 안되네요 ㅜㅜ\n",
       "1    다이어트에 심리가 적용되는게 어떤건지 알게되고있어요 의지박약인데 정말 꾸준히 식단기...\n",
       "2    무료로도 사용할만한 기능들이 있어서 나쁘지 않아요\\n지금은 유료 결제로 돌려서 코칭...\n",
       "3    임신성 당뇨로 대학병원에서 안내받아 사용한지 2주 정도 되었어요. 편리한 부분도 있...\n",
       "4             업데이트하니까 오류나면서 동작도 안하네요\\n하.. 그냥 이쯤에서 바이바이\n",
       "Name: REVIEW, dtype: object"
      ]
     },
     "execution_count": 8,
     "metadata": {},
     "output_type": "execute_result"
    }
   ],
   "source": [
    "df['REVIEW'].head()"
   ]
  },
  {
   "cell_type": "code",
   "execution_count": 17,
   "metadata": {},
   "outputs": [
    {
     "data": {
      "text/html": [
       "<div>\n",
       "<style scoped>\n",
       "    .dataframe tbody tr th:only-of-type {\n",
       "        vertical-align: middle;\n",
       "    }\n",
       "\n",
       "    .dataframe tbody tr th {\n",
       "        vertical-align: top;\n",
       "    }\n",
       "\n",
       "    .dataframe thead th {\n",
       "        text-align: right;\n",
       "    }\n",
       "</style>\n",
       "<table border=\"1\" class=\"dataframe\">\n",
       "  <thead>\n",
       "    <tr style=\"text-align: right;\">\n",
       "      <th></th>\n",
       "      <th>REVIEW</th>\n",
       "    </tr>\n",
       "  </thead>\n",
       "  <tbody>\n",
       "    <tr>\n",
       "      <th>0</th>\n",
       "      <td>안드로이드로는 잘 썼는데 아이폰에서 안되네요 ㅜㅜ</td>\n",
       "    </tr>\n",
       "    <tr>\n",
       "      <th>1</th>\n",
       "      <td>다이어트에 심리가 적용되는게 어떤건지 알게되고있어요 의지박약인데 정말 꾸준히 식단기...</td>\n",
       "    </tr>\n",
       "    <tr>\n",
       "      <th>2</th>\n",
       "      <td>무료로도 사용할만한 기능들이 있어서 나쁘지 않아요\\n지금은 유료 결제로 돌려서 코칭...</td>\n",
       "    </tr>\n",
       "    <tr>\n",
       "      <th>3</th>\n",
       "      <td>임신성 당뇨로 대학병원에서 안내받아 사용한지 2주 정도 되었어요. 편리한 부분도 있...</td>\n",
       "    </tr>\n",
       "    <tr>\n",
       "      <th>4</th>\n",
       "      <td>업데이트하니까 오류나면서 동작도 안하네요\\n하.. 그냥 이쯤에서 바이바이</td>\n",
       "    </tr>\n",
       "    <tr>\n",
       "      <th>...</th>\n",
       "      <td>...</td>\n",
       "    </tr>\n",
       "    <tr>\n",
       "      <th>495</th>\n",
       "      <td>실행이되지않습니다....하얀화면에 주황동그라미만돌뿐......</td>\n",
       "    </tr>\n",
       "    <tr>\n",
       "      <th>496</th>\n",
       "      <td>드라마틱한 변화는 아니지만, 생활습관이 조금씩 달라집니다. 매일 뭘 먹는지 기록하다...</td>\n",
       "    </tr>\n",
       "    <tr>\n",
       "      <th>497</th>\n",
       "      <td>운동, 식습관, 마음챙김 등 건강한 습관 만드는데 도움이 되어요^^</td>\n",
       "    </tr>\n",
       "    <tr>\n",
       "      <th>498</th>\n",
       "      <td>꾸준히 식단 기록하고 몸무게 체크하는 것만으로도 살이 빠져요. 코치님도 너무 친절하...</td>\n",
       "    </tr>\n",
       "    <tr>\n",
       "      <th>499</th>\n",
       "      <td>식단기록. 운동. 마음가짐. \\n\\n다이어트 공식 누구나 다 아는데 그걸 습관화 하...</td>\n",
       "    </tr>\n",
       "  </tbody>\n",
       "</table>\n",
       "<p>500 rows × 1 columns</p>\n",
       "</div>"
      ],
      "text/plain": [
       "                                                REVIEW\n",
       "0                          안드로이드로는 잘 썼는데 아이폰에서 안되네요 ㅜㅜ\n",
       "1    다이어트에 심리가 적용되는게 어떤건지 알게되고있어요 의지박약인데 정말 꾸준히 식단기...\n",
       "2    무료로도 사용할만한 기능들이 있어서 나쁘지 않아요\\n지금은 유료 결제로 돌려서 코칭...\n",
       "3    임신성 당뇨로 대학병원에서 안내받아 사용한지 2주 정도 되었어요. 편리한 부분도 있...\n",
       "4             업데이트하니까 오류나면서 동작도 안하네요\\n하.. 그냥 이쯤에서 바이바이\n",
       "..                                                 ...\n",
       "495                 실행이되지않습니다....하얀화면에 주황동그라미만돌뿐......\n",
       "496  드라마틱한 변화는 아니지만, 생활습관이 조금씩 달라집니다. 매일 뭘 먹는지 기록하다...\n",
       "497              운동, 식습관, 마음챙김 등 건강한 습관 만드는데 도움이 되어요^^\n",
       "498  꾸준히 식단 기록하고 몸무게 체크하는 것만으로도 살이 빠져요. 코치님도 너무 친절하...\n",
       "499  식단기록. 운동. 마음가짐. \\n\\n다이어트 공식 누구나 다 아는데 그걸 습관화 하...\n",
       "\n",
       "[500 rows x 1 columns]"
      ]
     },
     "execution_count": 17,
     "metadata": {},
     "output_type": "execute_result"
    }
   ],
   "source": [
    "df[['REVIEW']]"
   ]
  },
  {
   "cell_type": "code",
   "execution_count": 18,
   "metadata": {},
   "outputs": [],
   "source": [
    "okt = Okt()\n",
    "\n",
    "df[\"nouns\"] = df[\"REVIEW\"].apply(okt.nouns)"
   ]
  },
  {
   "cell_type": "code",
   "execution_count": 19,
   "metadata": {
    "scrolled": false
   },
   "outputs": [
    {
     "data": {
      "text/html": [
       "<div>\n",
       "<style scoped>\n",
       "    .dataframe tbody tr th:only-of-type {\n",
       "        vertical-align: middle;\n",
       "    }\n",
       "\n",
       "    .dataframe tbody tr th {\n",
       "        vertical-align: top;\n",
       "    }\n",
       "\n",
       "    .dataframe thead th {\n",
       "        text-align: right;\n",
       "    }\n",
       "</style>\n",
       "<table border=\"1\" class=\"dataframe\">\n",
       "  <thead>\n",
       "    <tr style=\"text-align: right;\">\n",
       "      <th></th>\n",
       "      <th>USER</th>\n",
       "      <th>DATE</th>\n",
       "      <th>STAR</th>\n",
       "      <th>LIKE</th>\n",
       "      <th>TITLE</th>\n",
       "      <th>REVIEW</th>\n",
       "      <th>nouns</th>\n",
       "    </tr>\n",
       "  </thead>\n",
       "  <tbody>\n",
       "    <tr>\n",
       "      <th>0</th>\n",
       "      <td>Vincent213</td>\n",
       "      <td>2022-10-27 21:55:04-07:00</td>\n",
       "      <td>2</td>\n",
       "      <td>0</td>\n",
       "      <td>로그인이 안되요 ㅜㅜㅜ</td>\n",
       "      <td>안드로이드로는 잘 썼는데 아이폰에서 안되네요 ㅜㅜ</td>\n",
       "      <td>[안드로이드, 아이폰]</td>\n",
       "    </tr>\n",
       "    <tr>\n",
       "      <th>1</th>\n",
       "      <td>아오여냐캬캥ㅇ</td>\n",
       "      <td>2022-10-17 03:23:05-07:00</td>\n",
       "      <td>5</td>\n",
       "      <td>0</td>\n",
       "      <td>정말의지박약인 저를 이끄는 앱</td>\n",
       "      <td>다이어트에 심리가 적용되는게 어떤건지 알게되고있어요 의지박약인데 정말 꾸준히 식단기...</td>\n",
       "      <td>[다이어트, 심리, 적용, 건, 알, 의지, 박약, 정말, 식단, 기록, 체중, 기...</td>\n",
       "    </tr>\n",
       "    <tr>\n",
       "      <th>2</th>\n",
       "      <td>✨Emilia</td>\n",
       "      <td>2022-10-06 22:04:44-07:00</td>\n",
       "      <td>5</td>\n",
       "      <td>0</td>\n",
       "      <td>사용하기 쉬워요</td>\n",
       "      <td>무료로도 사용할만한 기능들이 있어서 나쁘지 않아요\\n지금은 유료 결제로 돌려서 코칭...</td>\n",
       "      <td>[무료, 도, 사용, 기능, 지금, 유료, 결제, 코칭, 체중, 그래프, 화면, 목...</td>\n",
       "    </tr>\n",
       "    <tr>\n",
       "      <th>3</th>\n",
       "      <td>S_jei</td>\n",
       "      <td>2022-10-02 23:08:59-07:00</td>\n",
       "      <td>4</td>\n",
       "      <td>0</td>\n",
       "      <td>피드백이 빨라요.</td>\n",
       "      <td>임신성 당뇨로 대학병원에서 안내받아 사용한지 2주 정도 되었어요. 편리한 부분도 있...</td>\n",
       "      <td>[임신, 당뇨, 대학병원, 사용, 한지, 주, 정도, 부분, 부분, 매칭, 안, 소...</td>\n",
       "    </tr>\n",
       "    <tr>\n",
       "      <th>4</th>\n",
       "      <td>MinQu</td>\n",
       "      <td>2022-09-21 04:04:01-07:00</td>\n",
       "      <td>1</td>\n",
       "      <td>0</td>\n",
       "      <td>하다하다 업데이트로 날려먹는건 ...</td>\n",
       "      <td>업데이트하니까 오류나면서 동작도 안하네요\\n하.. 그냥 이쯤에서 바이바이</td>\n",
       "      <td>[업데이트, 오류, 면서, 동작, 그냥, 이쯤, 바이바이]</td>\n",
       "    </tr>\n",
       "  </tbody>\n",
       "</table>\n",
       "</div>"
      ],
      "text/plain": [
       "         USER                       DATE  STAR  LIKE                 TITLE  \\\n",
       "0  Vincent213  2022-10-27 21:55:04-07:00     2     0          로그인이 안되요 ㅜㅜㅜ   \n",
       "1     아오여냐캬캥ㅇ  2022-10-17 03:23:05-07:00     5     0      정말의지박약인 저를 이끄는 앱   \n",
       "2     ✨Emilia  2022-10-06 22:04:44-07:00     5     0              사용하기 쉬워요   \n",
       "3       S_jei  2022-10-02 23:08:59-07:00     4     0             피드백이 빨라요.   \n",
       "4       MinQu  2022-09-21 04:04:01-07:00     1     0  하다하다 업데이트로 날려먹는건 ...   \n",
       "\n",
       "                                              REVIEW  \\\n",
       "0                        안드로이드로는 잘 썼는데 아이폰에서 안되네요 ㅜㅜ   \n",
       "1  다이어트에 심리가 적용되는게 어떤건지 알게되고있어요 의지박약인데 정말 꾸준히 식단기...   \n",
       "2  무료로도 사용할만한 기능들이 있어서 나쁘지 않아요\\n지금은 유료 결제로 돌려서 코칭...   \n",
       "3  임신성 당뇨로 대학병원에서 안내받아 사용한지 2주 정도 되었어요. 편리한 부분도 있...   \n",
       "4           업데이트하니까 오류나면서 동작도 안하네요\\n하.. 그냥 이쯤에서 바이바이   \n",
       "\n",
       "                                               nouns  \n",
       "0                                       [안드로이드, 아이폰]  \n",
       "1  [다이어트, 심리, 적용, 건, 알, 의지, 박약, 정말, 식단, 기록, 체중, 기...  \n",
       "2  [무료, 도, 사용, 기능, 지금, 유료, 결제, 코칭, 체중, 그래프, 화면, 목...  \n",
       "3  [임신, 당뇨, 대학병원, 사용, 한지, 주, 정도, 부분, 부분, 매칭, 안, 소...  \n",
       "4                   [업데이트, 오류, 면서, 동작, 그냥, 이쯤, 바이바이]  "
      ]
     },
     "execution_count": 19,
     "metadata": {},
     "output_type": "execute_result"
    }
   ],
   "source": [
    "df.head()"
   ]
  },
  {
   "cell_type": "code",
   "execution_count": 31,
   "metadata": {},
   "outputs": [],
   "source": [
    "import itertools\n",
    "\n",
    "totwords = list(itertools.chain(*df['nouns'].to_list()))"
   ]
  },
  {
   "cell_type": "code",
   "execution_count": 32,
   "metadata": {},
   "outputs": [],
   "source": [
    "words = [n for n in totwords if len(totwords) > 1] # 단어의 길이가 1개인 것은 제외"
   ]
  },
  {
   "cell_type": "code",
   "execution_count": 33,
   "metadata": {},
   "outputs": [],
   "source": [
    "c = Counter(words) # 위에서 얻은 words를 처리하여 단어별 빈도수 형태의 딕셔너리 데이터를 구함"
   ]
  },
  {
   "cell_type": "code",
   "execution_count": 34,
   "metadata": {},
   "outputs": [
    {
     "ename": "OSError",
     "evalue": "cannot open resource",
     "output_type": "error",
     "traceback": [
      "\u001b[0;31m---------------------------------------------------------------------------\u001b[0m",
      "\u001b[0;31mOSError\u001b[0m                                   Traceback (most recent call last)",
      "\u001b[0;32m<ipython-input-34-24fc6b3abb38>\u001b[0m in \u001b[0;36m<module>\u001b[0;34m\u001b[0m\n\u001b[1;32m      1\u001b[0m \u001b[0mwc\u001b[0m \u001b[0;34m=\u001b[0m \u001b[0mWordCloud\u001b[0m\u001b[0;34m(\u001b[0m\u001b[0mfont_path\u001b[0m\u001b[0;34m=\u001b[0m\u001b[0;34m'malgun'\u001b[0m\u001b[0;34m,\u001b[0m \u001b[0mwidth\u001b[0m\u001b[0;34m=\u001b[0m\u001b[0;36m400\u001b[0m\u001b[0;34m,\u001b[0m \u001b[0mheight\u001b[0m\u001b[0;34m=\u001b[0m\u001b[0;36m400\u001b[0m\u001b[0;34m,\u001b[0m \u001b[0mscale\u001b[0m\u001b[0;34m=\u001b[0m\u001b[0;36m2.0\u001b[0m\u001b[0;34m,\u001b[0m \u001b[0mmax_font_size\u001b[0m\u001b[0;34m=\u001b[0m\u001b[0;36m250\u001b[0m\u001b[0;34m)\u001b[0m\u001b[0;34m\u001b[0m\u001b[0;34m\u001b[0m\u001b[0m\n\u001b[0;32m----> 2\u001b[0;31m \u001b[0mgen\u001b[0m \u001b[0;34m=\u001b[0m \u001b[0mwc\u001b[0m\u001b[0;34m.\u001b[0m\u001b[0mgenerate_from_frequencies\u001b[0m\u001b[0;34m(\u001b[0m\u001b[0mc\u001b[0m\u001b[0;34m)\u001b[0m\u001b[0;34m\u001b[0m\u001b[0;34m\u001b[0m\u001b[0m\n\u001b[0m\u001b[1;32m      3\u001b[0m \u001b[0mplt\u001b[0m\u001b[0;34m.\u001b[0m\u001b[0mfigure\u001b[0m\u001b[0;34m(\u001b[0m\u001b[0;34m)\u001b[0m\u001b[0;34m\u001b[0m\u001b[0;34m\u001b[0m\u001b[0m\n\u001b[1;32m      4\u001b[0m \u001b[0mplt\u001b[0m\u001b[0;34m.\u001b[0m\u001b[0mimshow\u001b[0m\u001b[0;34m(\u001b[0m\u001b[0mgen\u001b[0m\u001b[0;34m)\u001b[0m\u001b[0;34m\u001b[0m\u001b[0;34m\u001b[0m\u001b[0m\n",
      "\u001b[0;32m~/opt/anaconda3/lib/python3.7/site-packages/wordcloud/wordcloud.py\u001b[0m in \u001b[0;36mgenerate_from_frequencies\u001b[0;34m(self, frequencies, max_font_size)\u001b[0m\n\u001b[1;32m    494\u001b[0m             \u001b[0;32mwhile\u001b[0m \u001b[0;32mTrue\u001b[0m\u001b[0;34m:\u001b[0m\u001b[0;34m\u001b[0m\u001b[0;34m\u001b[0m\u001b[0m\n\u001b[1;32m    495\u001b[0m                 \u001b[0;31m# try to find a position\u001b[0m\u001b[0;34m\u001b[0m\u001b[0;34m\u001b[0m\u001b[0;34m\u001b[0m\u001b[0m\n\u001b[0;32m--> 496\u001b[0;31m                 \u001b[0mfont\u001b[0m \u001b[0;34m=\u001b[0m \u001b[0mImageFont\u001b[0m\u001b[0;34m.\u001b[0m\u001b[0mtruetype\u001b[0m\u001b[0;34m(\u001b[0m\u001b[0mself\u001b[0m\u001b[0;34m.\u001b[0m\u001b[0mfont_path\u001b[0m\u001b[0;34m,\u001b[0m \u001b[0mfont_size\u001b[0m\u001b[0;34m)\u001b[0m\u001b[0;34m\u001b[0m\u001b[0;34m\u001b[0m\u001b[0m\n\u001b[0m\u001b[1;32m    497\u001b[0m                 \u001b[0;31m# transpose font optionally\u001b[0m\u001b[0;34m\u001b[0m\u001b[0;34m\u001b[0m\u001b[0;34m\u001b[0m\u001b[0m\n\u001b[1;32m    498\u001b[0m                 transposed_font = ImageFont.TransposedFont(\n",
      "\u001b[0;32m~/opt/anaconda3/lib/python3.7/site-packages/PIL/ImageFont.py\u001b[0m in \u001b[0;36mtruetype\u001b[0;34m(font, size, index, encoding, layout_engine)\u001b[0m\n\u001b[1;32m    640\u001b[0m \u001b[0;34m\u001b[0m\u001b[0m\n\u001b[1;32m    641\u001b[0m     \u001b[0;32mtry\u001b[0m\u001b[0;34m:\u001b[0m\u001b[0;34m\u001b[0m\u001b[0;34m\u001b[0m\u001b[0m\n\u001b[0;32m--> 642\u001b[0;31m         \u001b[0;32mreturn\u001b[0m \u001b[0mfreetype\u001b[0m\u001b[0;34m(\u001b[0m\u001b[0mfont\u001b[0m\u001b[0;34m)\u001b[0m\u001b[0;34m\u001b[0m\u001b[0;34m\u001b[0m\u001b[0m\n\u001b[0m\u001b[1;32m    643\u001b[0m     \u001b[0;32mexcept\u001b[0m \u001b[0mOSError\u001b[0m\u001b[0;34m:\u001b[0m\u001b[0;34m\u001b[0m\u001b[0;34m\u001b[0m\u001b[0m\n\u001b[1;32m    644\u001b[0m         \u001b[0;32mif\u001b[0m \u001b[0;32mnot\u001b[0m \u001b[0misPath\u001b[0m\u001b[0;34m(\u001b[0m\u001b[0mfont\u001b[0m\u001b[0;34m)\u001b[0m\u001b[0;34m:\u001b[0m\u001b[0;34m\u001b[0m\u001b[0;34m\u001b[0m\u001b[0m\n",
      "\u001b[0;32m~/opt/anaconda3/lib/python3.7/site-packages/PIL/ImageFont.py\u001b[0m in \u001b[0;36mfreetype\u001b[0;34m(font)\u001b[0m\n\u001b[1;32m    637\u001b[0m \u001b[0;34m\u001b[0m\u001b[0m\n\u001b[1;32m    638\u001b[0m     \u001b[0;32mdef\u001b[0m \u001b[0mfreetype\u001b[0m\u001b[0;34m(\u001b[0m\u001b[0mfont\u001b[0m\u001b[0;34m)\u001b[0m\u001b[0;34m:\u001b[0m\u001b[0;34m\u001b[0m\u001b[0;34m\u001b[0m\u001b[0m\n\u001b[0;32m--> 639\u001b[0;31m         \u001b[0;32mreturn\u001b[0m \u001b[0mFreeTypeFont\u001b[0m\u001b[0;34m(\u001b[0m\u001b[0mfont\u001b[0m\u001b[0;34m,\u001b[0m \u001b[0msize\u001b[0m\u001b[0;34m,\u001b[0m \u001b[0mindex\u001b[0m\u001b[0;34m,\u001b[0m \u001b[0mencoding\u001b[0m\u001b[0;34m,\u001b[0m \u001b[0mlayout_engine\u001b[0m\u001b[0;34m)\u001b[0m\u001b[0;34m\u001b[0m\u001b[0;34m\u001b[0m\u001b[0m\n\u001b[0m\u001b[1;32m    640\u001b[0m \u001b[0;34m\u001b[0m\u001b[0m\n\u001b[1;32m    641\u001b[0m     \u001b[0;32mtry\u001b[0m\u001b[0;34m:\u001b[0m\u001b[0;34m\u001b[0m\u001b[0;34m\u001b[0m\u001b[0m\n",
      "\u001b[0;32m~/opt/anaconda3/lib/python3.7/site-packages/PIL/ImageFont.py\u001b[0m in \u001b[0;36m__init__\u001b[0;34m(self, font, size, index, encoding, layout_engine)\u001b[0m\n\u001b[1;32m    186\u001b[0m                     \u001b[0;32mreturn\u001b[0m\u001b[0;34m\u001b[0m\u001b[0;34m\u001b[0m\u001b[0m\n\u001b[1;32m    187\u001b[0m             self.font = core.getfont(\n\u001b[0;32m--> 188\u001b[0;31m                 \u001b[0mfont\u001b[0m\u001b[0;34m,\u001b[0m \u001b[0msize\u001b[0m\u001b[0;34m,\u001b[0m \u001b[0mindex\u001b[0m\u001b[0;34m,\u001b[0m \u001b[0mencoding\u001b[0m\u001b[0;34m,\u001b[0m \u001b[0mlayout_engine\u001b[0m\u001b[0;34m=\u001b[0m\u001b[0mlayout_engine\u001b[0m\u001b[0;34m\u001b[0m\u001b[0;34m\u001b[0m\u001b[0m\n\u001b[0m\u001b[1;32m    189\u001b[0m             )\n\u001b[1;32m    190\u001b[0m         \u001b[0;32melse\u001b[0m\u001b[0;34m:\u001b[0m\u001b[0;34m\u001b[0m\u001b[0;34m\u001b[0m\u001b[0m\n",
      "\u001b[0;31mOSError\u001b[0m: cannot open resource"
     ]
    }
   ],
   "source": [
    "wc = WordCloud(font_path='malgun', width=400, height=400, scale=2.0, max_font_size=250)\n",
    "gen = wc.generate_from_frequencies(c)\n",
    "plt.figure()\n",
    "plt.imshow(gen)"
   ]
  },
  {
   "cell_type": "code",
   "execution_count": null,
   "metadata": {},
   "outputs": [],
   "source": []
  }
 ],
 "metadata": {
  "kernelspec": {
   "display_name": "Python 3",
   "language": "python",
   "name": "python3"
  },
  "language_info": {
   "codemirror_mode": {
    "name": "ipython",
    "version": 3
   },
   "file_extension": ".py",
   "mimetype": "text/x-python",
   "name": "python",
   "nbconvert_exporter": "python",
   "pygments_lexer": "ipython3",
   "version": "3.7.6"
  }
 },
 "nbformat": 4,
 "nbformat_minor": 4
}
