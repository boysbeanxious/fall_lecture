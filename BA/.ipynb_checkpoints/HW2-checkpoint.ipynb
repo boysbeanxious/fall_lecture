{
 "cells": [
  {
   "cell_type": "code",
   "execution_count": 1,
   "metadata": {},
   "outputs": [],
   "source": [
    "# pip install aesara"
   ]
  },
  {
   "cell_type": "code",
   "execution_count": 2,
   "metadata": {},
   "outputs": [],
   "source": [
    "# pip install arviz"
   ]
  },
  {
   "cell_type": "code",
   "execution_count": 3,
   "metadata": {},
   "outputs": [],
   "source": [
    "# pip install pymc"
   ]
  },
  {
   "cell_type": "code",
   "execution_count": 4,
   "metadata": {},
   "outputs": [],
   "source": [
    "# pip install xarray"
   ]
  },
  {
   "cell_type": "code",
   "execution_count": 5,
   "metadata": {},
   "outputs": [],
   "source": [
    "# import os\n",
    "\n",
    "# import aesara.tensor as at\n",
    "# import arviz as az\n",
    "# import matplotlib.pyplot as plt\n",
    "# import numpy as np\n",
    "# import pandas as pd\n",
    "# import pymc as pm\n",
    "# import xarray as xr\n",
    "\n",
    "# print(f\"Running on PyMC v{pm.__version__}\")"
   ]
  },
  {
   "cell_type": "code",
   "execution_count": 6,
   "metadata": {},
   "outputs": [],
   "source": [
    "# RANDOM_SEED = 8924\n",
    "# az.style.use(\"arviz-darkgrid\")"
   ]
  },
  {
   "cell_type": "code",
   "execution_count": 7,
   "metadata": {},
   "outputs": [],
   "source": [
    "# # Import radon data\n",
    "# srrs2 = pd.read_csv(os.path.join(\"./Golden_Ticket_Award_Winners_Steel.csv\"))\n",
    "\n",
    "\n",
    "# srrs2.columns = srrs2.columns.map(str.strip)\n",
    "# # srrs_mn = srrs2[srrs2.state == \"MN\"].copy()"
   ]
  },
  {
   "cell_type": "code",
   "execution_count": 8,
   "metadata": {},
   "outputs": [],
   "source": [
    "# srrs_mn[\"fips\"] = srrs_mn.stfips * 1000 + srrs_mn.cntyfips\n",
    "# cty = pd.read_csv(pm.get_data(\"cty.dat\"))\n",
    "# cty_mn = cty[cty.st == \"MN\"].copy()\n",
    "# cty_mn[\"fips\"] = 1000 * cty_mn.stfips + cty_mn.ctfips"
   ]
  },
  {
   "cell_type": "code",
   "execution_count": 9,
   "metadata": {},
   "outputs": [],
   "source": [
    "# srrs_mn = srrs_mn.merge(cty_mn[[\"fips\", \"Uppm\"]], on=\"fips\")\n",
    "# srrs_mn = srrs_mn.drop_duplicates(subset=\"idnum\")\n",
    "# u = np.log(srrs_mn.Uppm).unique()\n",
    "\n",
    "# n = len(srrs_mn)"
   ]
  },
  {
   "cell_type": "code",
   "execution_count": 10,
   "metadata": {},
   "outputs": [],
   "source": [
    "# srrs_mn.head()"
   ]
  },
  {
   "cell_type": "code",
   "execution_count": 11,
   "metadata": {},
   "outputs": [],
   "source": [
    "# srrs_mn.county = srrs_mn.county.map(str.strip)\n",
    "# mn_counties = srrs_mn.county.unique()\n",
    "# counties = len(mn_counties)\n",
    "# county_lookup = dict(zip(mn_counties, range(counties)))"
   ]
  },
  {
   "cell_type": "code",
   "execution_count": 12,
   "metadata": {},
   "outputs": [],
   "source": [
    "# county_lookup"
   ]
  },
  {
   "cell_type": "code",
   "execution_count": 13,
   "metadata": {},
   "outputs": [],
   "source": [
    "# county = srrs_mn[\"county_code\"] = srrs_mn.county.replace(county_lookup).values\n",
    "# radon = srrs_mn.activity\n",
    "# srrs_mn[\"log_radon\"] = log_radon = np.log(radon + 0.1).values\n",
    "# floor = srrs_mn.floor.values"
   ]
  },
  {
   "cell_type": "code",
   "execution_count": 14,
   "metadata": {},
   "outputs": [],
   "source": [
    "# srrs_mn.log_radon.hist(bins=25);"
   ]
  },
  {
   "cell_type": "code",
   "execution_count": 15,
   "metadata": {},
   "outputs": [],
   "source": [
    "# coords = {\"Level\": [\"Basement\", \"Floor\"]}\n",
    "# with pm.Model(coords=coords) as pooled_model:\n",
    "#     floor_idx = pm.Data(\"floor_idx\", floor, dims=\"obs_id\", mutable=True)\n",
    "#     a = pm.Normal(\"a\", 0.0, sigma=10.0, dims=\"Level\")\n",
    "\n",
    "#     theta = a[floor_idx]\n",
    "#     sigma = pm.Exponential(\"sigma\", 1.0)\n",
    "\n",
    "#     y = pm.Normal(\"y\", theta, sigma=sigma, observed=log_radon, dims=\"obs_id\")\n",
    "\n",
    "# pm.model_to_graphviz(pooled_model)"
   ]
  },
  {
   "cell_type": "code",
   "execution_count": 16,
   "metadata": {},
   "outputs": [],
   "source": [
    "# with pooled_model:\n",
    "#     prior_checks = pm.sample_prior_predictive()\n",
    "\n",
    "# _, ax = plt.subplots()\n",
    "# prior_checks.prior.plot.scatter(x=\"Level\", y=\"a\", color=\"k\", alpha=0.2, ax=ax)\n",
    "# ax.set_ylabel(\"Mean log radon level\");"
   ]
  },
  {
   "cell_type": "code",
   "execution_count": 17,
   "metadata": {
    "scrolled": true
   },
   "outputs": [],
   "source": [
    "# with pooled_model:\n",
    "#     pooled_trace = pm.sample()\n",
    "\n",
    "# pooled_trace.extend(prior_checks)\n",
    "# az.summary(pooled_trace, round_to=2)"
   ]
  },
  {
   "cell_type": "code",
   "execution_count": 18,
   "metadata": {},
   "outputs": [],
   "source": [
    "import statsmodels.api as sm\n",
    "import statsmodels.formula.api as smf\n",
    "from statsmodels.tools.sm_exceptions import ConvergenceWarning\n",
    "import pandas as pd\n",
    "import numpy as np\n",
    "import matplotlib.pyplot as plt"
   ]
  },
  {
   "cell_type": "code",
   "execution_count": 19,
   "metadata": {},
   "outputs": [],
   "source": [
    "df = pd.read_csv('./SanFrancisco_salary.csv')"
   ]
  },
  {
   "cell_type": "code",
   "execution_count": 20,
   "metadata": {
    "scrolled": true
   },
   "outputs": [
    {
     "data": {
      "text/html": [
       "<div>\n",
       "<style scoped>\n",
       "    .dataframe tbody tr th:only-of-type {\n",
       "        vertical-align: middle;\n",
       "    }\n",
       "\n",
       "    .dataframe tbody tr th {\n",
       "        vertical-align: top;\n",
       "    }\n",
       "\n",
       "    .dataframe thead th {\n",
       "        text-align: right;\n",
       "    }\n",
       "</style>\n",
       "<table border=\"1\" class=\"dataframe\">\n",
       "  <thead>\n",
       "    <tr style=\"text-align: right;\">\n",
       "      <th></th>\n",
       "      <th>Unnamed: 0</th>\n",
       "      <th>Id</th>\n",
       "      <th>EmployeeName</th>\n",
       "      <th>JobTitle</th>\n",
       "      <th>BasePay</th>\n",
       "      <th>OvertimePay</th>\n",
       "      <th>OtherPay</th>\n",
       "      <th>Benefits</th>\n",
       "      <th>TotalPay</th>\n",
       "      <th>TotalPayBenefits</th>\n",
       "      <th>Year</th>\n",
       "      <th>Department</th>\n",
       "      <th>Department_ML</th>\n",
       "    </tr>\n",
       "  </thead>\n",
       "  <tbody>\n",
       "    <tr>\n",
       "      <th>0</th>\n",
       "      <td>36159</td>\n",
       "      <td>36160</td>\n",
       "      <td>Gary Altenberg</td>\n",
       "      <td>Lieutenant, Fire Suppression</td>\n",
       "      <td>128808.87</td>\n",
       "      <td>220909.48</td>\n",
       "      <td>13126.31</td>\n",
       "      <td>44430.12</td>\n",
       "      <td>362844.66</td>\n",
       "      <td>407274.78</td>\n",
       "      <td>2012</td>\n",
       "      <td>Fire</td>\n",
       "      <td>4</td>\n",
       "    </tr>\n",
       "    <tr>\n",
       "      <th>1</th>\n",
       "      <td>36160</td>\n",
       "      <td>36161</td>\n",
       "      <td>Gregory Suhr</td>\n",
       "      <td>Chief of Police</td>\n",
       "      <td>302578.00</td>\n",
       "      <td>0.00</td>\n",
       "      <td>18974.11</td>\n",
       "      <td>69810.19</td>\n",
       "      <td>321552.11</td>\n",
       "      <td>391362.30</td>\n",
       "      <td>2012</td>\n",
       "      <td>Other</td>\n",
       "      <td>2</td>\n",
       "    </tr>\n",
       "    <tr>\n",
       "      <th>2</th>\n",
       "      <td>36161</td>\n",
       "      <td>36162</td>\n",
       "      <td>Khoa Trinh</td>\n",
       "      <td>Electronic Maintenance Tech</td>\n",
       "      <td>111921.00</td>\n",
       "      <td>146415.32</td>\n",
       "      <td>78057.41</td>\n",
       "      <td>53102.29</td>\n",
       "      <td>336393.73</td>\n",
       "      <td>389496.02</td>\n",
       "      <td>2012</td>\n",
       "      <td>Not dep</td>\n",
       "      <td>5</td>\n",
       "    </tr>\n",
       "    <tr>\n",
       "      <th>3</th>\n",
       "      <td>36162</td>\n",
       "      <td>36163</td>\n",
       "      <td>Joanne Hayes-White</td>\n",
       "      <td>Chief, Fire Department</td>\n",
       "      <td>296943.01</td>\n",
       "      <td>0.00</td>\n",
       "      <td>17816.59</td>\n",
       "      <td>72047.88</td>\n",
       "      <td>314759.60</td>\n",
       "      <td>386807.48</td>\n",
       "      <td>2012</td>\n",
       "      <td>Other</td>\n",
       "      <td>2</td>\n",
       "    </tr>\n",
       "    <tr>\n",
       "      <th>4</th>\n",
       "      <td>36163</td>\n",
       "      <td>36164</td>\n",
       "      <td>Frederick Binkley</td>\n",
       "      <td>EMT/Paramedic/Firefighter</td>\n",
       "      <td>126863.19</td>\n",
       "      <td>192424.49</td>\n",
       "      <td>17917.18</td>\n",
       "      <td>44438.25</td>\n",
       "      <td>337204.86</td>\n",
       "      <td>381643.11</td>\n",
       "      <td>2012</td>\n",
       "      <td>Other</td>\n",
       "      <td>2</td>\n",
       "    </tr>\n",
       "  </tbody>\n",
       "</table>\n",
       "</div>"
      ],
      "text/plain": [
       "   Unnamed: 0     Id        EmployeeName                      JobTitle  \\\n",
       "0       36159  36160      Gary Altenberg  Lieutenant, Fire Suppression   \n",
       "1       36160  36161        Gregory Suhr               Chief of Police   \n",
       "2       36161  36162          Khoa Trinh   Electronic Maintenance Tech   \n",
       "3       36162  36163  Joanne Hayes-White        Chief, Fire Department   \n",
       "4       36163  36164   Frederick Binkley     EMT/Paramedic/Firefighter   \n",
       "\n",
       "     BasePay  OvertimePay  OtherPay  Benefits   TotalPay  TotalPayBenefits  \\\n",
       "0  128808.87    220909.48  13126.31  44430.12  362844.66         407274.78   \n",
       "1  302578.00         0.00  18974.11  69810.19  321552.11         391362.30   \n",
       "2  111921.00    146415.32  78057.41  53102.29  336393.73         389496.02   \n",
       "3  296943.01         0.00  17816.59  72047.88  314759.60         386807.48   \n",
       "4  126863.19    192424.49  17917.18  44438.25  337204.86         381643.11   \n",
       "\n",
       "   Year Department  Department_ML  \n",
       "0  2012       Fire              4  \n",
       "1  2012      Other              2  \n",
       "2  2012    Not dep              5  \n",
       "3  2012      Other              2  \n",
       "4  2012      Other              2  "
      ]
     },
     "execution_count": 20,
     "metadata": {},
     "output_type": "execute_result"
    }
   ],
   "source": [
    "df.head()"
   ]
  },
  {
   "cell_type": "code",
   "execution_count": 21,
   "metadata": {},
   "outputs": [
    {
     "data": {
      "text/plain": [
       "(array([1.03885e+05, 5.63000e+03, 1.65900e+03, 5.10000e+02, 1.41000e+02,\n",
       "        3.70000e+01, 1.00000e+01, 6.00000e+00, 2.00000e+00, 1.00000e+00]),\n",
       " array([-1.00000000e-02,  2.20909390e+04,  4.41818880e+04,  6.62728370e+04,\n",
       "         8.83637860e+04,  1.10454735e+05,  1.32545684e+05,  1.54636633e+05,\n",
       "         1.76727582e+05,  1.98818531e+05,  2.20909480e+05]),\n",
       " <BarContainer object of 10 artists>)"
      ]
     },
     "execution_count": 21,
     "metadata": {},
     "output_type": "execute_result"
    },
    {
     "data": {
      "image/png": "[encoded data removed]",
      "text/plain": [
       "<Figure size 432x288 with 1 Axes>"
      ]
     },
     "metadata": {
      "needs_background": "light"
     },
     "output_type": "display_data"
    }
   ],
   "source": [
    "plt.hist(df[\"OvertimePay\"])"
   ]
  },
  {
   "cell_type": "code",
   "execution_count": 22,
   "metadata": {},
   "outputs": [],
   "source": [
    "df[\"log_OvertimePay\"] = np.log(df[\"OvertimePay\"] + 0.1).values"
   ]
  },
  {
   "cell_type": "code",
   "execution_count": 23,
   "metadata": {},
   "outputs": [
    {
     "data": {
      "text/plain": [
       "(array([5.7740e+04, 1.0000e+00, 2.8000e+01, 4.1300e+02, 1.7100e+03,\n",
       "        4.7510e+03, 1.1817e+04, 1.9557e+04, 1.4182e+04, 1.6820e+03]),\n",
       " array([-2.40794561, -0.93660017,  0.53474526,  2.0060907 ,  3.47743614,\n",
       "         4.94878157,  6.42012701,  7.89147245,  9.36281788, 10.83416332,\n",
       "        12.30550876]),\n",
       " <BarContainer object of 10 artists>)"
      ]
     },
     "execution_count": 23,
     "metadata": {},
     "output_type": "execute_result"
    },
    {
     "data": {
      "image/png": "[encoded data removed]",
      "text/plain": [
       "<Figure size 432x288 with 1 Axes>"
      ]
     },
     "metadata": {
      "needs_background": "light"
     },
     "output_type": "display_data"
    }
   ],
   "source": [
    "plt.hist(df[\"log_OvertimePay\"])"
   ]
  },
  {
   "cell_type": "code",
   "execution_count": 24,
   "metadata": {
    "scrolled": true
   },
   "outputs": [
    {
     "data": {
      "text/html": [
       "<div>\n",
       "<style scoped>\n",
       "    .dataframe tbody tr th:only-of-type {\n",
       "        vertical-align: middle;\n",
       "    }\n",
       "\n",
       "    .dataframe tbody tr th {\n",
       "        vertical-align: top;\n",
       "    }\n",
       "\n",
       "    .dataframe thead th {\n",
       "        text-align: right;\n",
       "    }\n",
       "</style>\n",
       "<table border=\"1\" class=\"dataframe\">\n",
       "  <thead>\n",
       "    <tr style=\"text-align: right;\">\n",
       "      <th></th>\n",
       "      <th>Unnamed: 0</th>\n",
       "      <th>Id</th>\n",
       "      <th>EmployeeName</th>\n",
       "      <th>JobTitle</th>\n",
       "      <th>BasePay</th>\n",
       "      <th>OvertimePay</th>\n",
       "      <th>OtherPay</th>\n",
       "      <th>Benefits</th>\n",
       "      <th>TotalPay</th>\n",
       "      <th>TotalPayBenefits</th>\n",
       "      <th>Year</th>\n",
       "      <th>Department_ML</th>\n",
       "      <th>log_OvertimePay</th>\n",
       "    </tr>\n",
       "    <tr>\n",
       "      <th>Department</th>\n",
       "      <th></th>\n",
       "      <th></th>\n",
       "      <th></th>\n",
       "      <th></th>\n",
       "      <th></th>\n",
       "      <th></th>\n",
       "      <th></th>\n",
       "      <th></th>\n",
       "      <th></th>\n",
       "      <th></th>\n",
       "      <th></th>\n",
       "      <th></th>\n",
       "      <th></th>\n",
       "    </tr>\n",
       "  </thead>\n",
       "  <tbody>\n",
       "    <tr>\n",
       "      <th>Fire</th>\n",
       "      <td>17406</td>\n",
       "      <td>17406</td>\n",
       "      <td>17406</td>\n",
       "      <td>17406</td>\n",
       "      <td>17406</td>\n",
       "      <td>17406</td>\n",
       "      <td>17406</td>\n",
       "      <td>17406</td>\n",
       "      <td>17406</td>\n",
       "      <td>17406</td>\n",
       "      <td>17406</td>\n",
       "      <td>17406</td>\n",
       "      <td>17406</td>\n",
       "    </tr>\n",
       "    <tr>\n",
       "      <th>Medicine</th>\n",
       "      <td>26990</td>\n",
       "      <td>26990</td>\n",
       "      <td>26990</td>\n",
       "      <td>26990</td>\n",
       "      <td>26990</td>\n",
       "      <td>26990</td>\n",
       "      <td>26990</td>\n",
       "      <td>26990</td>\n",
       "      <td>26990</td>\n",
       "      <td>26990</td>\n",
       "      <td>26990</td>\n",
       "      <td>26990</td>\n",
       "      <td>26990</td>\n",
       "    </tr>\n",
       "    <tr>\n",
       "      <th>Not dep</th>\n",
       "      <td>6261</td>\n",
       "      <td>6261</td>\n",
       "      <td>6261</td>\n",
       "      <td>6261</td>\n",
       "      <td>6261</td>\n",
       "      <td>6261</td>\n",
       "      <td>6261</td>\n",
       "      <td>6261</td>\n",
       "      <td>6261</td>\n",
       "      <td>6261</td>\n",
       "      <td>6261</td>\n",
       "      <td>6261</td>\n",
       "      <td>6261</td>\n",
       "    </tr>\n",
       "    <tr>\n",
       "      <th>Other</th>\n",
       "      <td>32672</td>\n",
       "      <td>32672</td>\n",
       "      <td>32672</td>\n",
       "      <td>32672</td>\n",
       "      <td>32672</td>\n",
       "      <td>32672</td>\n",
       "      <td>32672</td>\n",
       "      <td>32672</td>\n",
       "      <td>32672</td>\n",
       "      <td>32672</td>\n",
       "      <td>32672</td>\n",
       "      <td>32672</td>\n",
       "      <td>32672</td>\n",
       "    </tr>\n",
       "    <tr>\n",
       "      <th>Police</th>\n",
       "      <td>28552</td>\n",
       "      <td>28552</td>\n",
       "      <td>28552</td>\n",
       "      <td>28552</td>\n",
       "      <td>28552</td>\n",
       "      <td>28552</td>\n",
       "      <td>28552</td>\n",
       "      <td>28552</td>\n",
       "      <td>28552</td>\n",
       "      <td>28552</td>\n",
       "      <td>28552</td>\n",
       "      <td>28552</td>\n",
       "      <td>28552</td>\n",
       "    </tr>\n",
       "  </tbody>\n",
       "</table>\n",
       "</div>"
      ],
      "text/plain": [
       "            Unnamed: 0     Id  EmployeeName  JobTitle  BasePay  OvertimePay  \\\n",
       "Department                                                                    \n",
       "Fire             17406  17406         17406     17406    17406        17406   \n",
       "Medicine         26990  26990         26990     26990    26990        26990   \n",
       "Not dep           6261   6261          6261      6261     6261         6261   \n",
       "Other            32672  32672         32672     32672    32672        32672   \n",
       "Police           28552  28552         28552     28552    28552        28552   \n",
       "\n",
       "            OtherPay  Benefits  TotalPay  TotalPayBenefits   Year  \\\n",
       "Department                                                          \n",
       "Fire           17406     17406     17406             17406  17406   \n",
       "Medicine       26990     26990     26990             26990  26990   \n",
       "Not dep         6261      6261      6261              6261   6261   \n",
       "Other          32672     32672     32672             32672  32672   \n",
       "Police         28552     28552     28552             28552  28552   \n",
       "\n",
       "            Department_ML  log_OvertimePay  \n",
       "Department                                  \n",
       "Fire                17406            17406  \n",
       "Medicine            26990            26990  \n",
       "Not dep              6261             6261  \n",
       "Other               32672            32672  \n",
       "Police              28552            28552  "
      ]
     },
     "execution_count": 24,
     "metadata": {},
     "output_type": "execute_result"
    }
   ],
   "source": [
    "df.groupby(['Department']).count()"
   ]
  },
  {
   "cell_type": "code",
   "execution_count": 25,
   "metadata": {},
   "outputs": [
    {
     "data": {
      "text/html": [
       "<div>\n",
       "<style scoped>\n",
       "    .dataframe tbody tr th:only-of-type {\n",
       "        vertical-align: middle;\n",
       "    }\n",
       "\n",
       "    .dataframe tbody tr th {\n",
       "        vertical-align: top;\n",
       "    }\n",
       "\n",
       "    .dataframe thead th {\n",
       "        text-align: right;\n",
       "    }\n",
       "</style>\n",
       "<table border=\"1\" class=\"dataframe\">\n",
       "  <thead>\n",
       "    <tr style=\"text-align: right;\">\n",
       "      <th></th>\n",
       "      <th>Unnamed: 0</th>\n",
       "      <th>Id</th>\n",
       "      <th>EmployeeName</th>\n",
       "      <th>JobTitle</th>\n",
       "      <th>BasePay</th>\n",
       "      <th>OvertimePay</th>\n",
       "      <th>OtherPay</th>\n",
       "      <th>Benefits</th>\n",
       "      <th>TotalPay</th>\n",
       "      <th>TotalPayBenefits</th>\n",
       "      <th>Year</th>\n",
       "      <th>Department</th>\n",
       "      <th>Department_ML</th>\n",
       "      <th>log_OvertimePay</th>\n",
       "    </tr>\n",
       "  </thead>\n",
       "  <tbody>\n",
       "    <tr>\n",
       "      <th>0</th>\n",
       "      <td>36159</td>\n",
       "      <td>36160</td>\n",
       "      <td>Gary Altenberg</td>\n",
       "      <td>Lieutenant, Fire Suppression</td>\n",
       "      <td>128808.87</td>\n",
       "      <td>220909.48</td>\n",
       "      <td>13126.31</td>\n",
       "      <td>44430.12</td>\n",
       "      <td>362844.66</td>\n",
       "      <td>407274.78</td>\n",
       "      <td>2012</td>\n",
       "      <td>Fire</td>\n",
       "      <td>4</td>\n",
       "      <td>12.305509</td>\n",
       "    </tr>\n",
       "    <tr>\n",
       "      <th>1</th>\n",
       "      <td>36160</td>\n",
       "      <td>36161</td>\n",
       "      <td>Gregory Suhr</td>\n",
       "      <td>Chief of Police</td>\n",
       "      <td>302578.00</td>\n",
       "      <td>0.00</td>\n",
       "      <td>18974.11</td>\n",
       "      <td>69810.19</td>\n",
       "      <td>321552.11</td>\n",
       "      <td>391362.30</td>\n",
       "      <td>2012</td>\n",
       "      <td>Other</td>\n",
       "      <td>2</td>\n",
       "      <td>-2.302585</td>\n",
       "    </tr>\n",
       "    <tr>\n",
       "      <th>2</th>\n",
       "      <td>36161</td>\n",
       "      <td>36162</td>\n",
       "      <td>Khoa Trinh</td>\n",
       "      <td>Electronic Maintenance Tech</td>\n",
       "      <td>111921.00</td>\n",
       "      <td>146415.32</td>\n",
       "      <td>78057.41</td>\n",
       "      <td>53102.29</td>\n",
       "      <td>336393.73</td>\n",
       "      <td>389496.02</td>\n",
       "      <td>2012</td>\n",
       "      <td>Not dep</td>\n",
       "      <td>5</td>\n",
       "      <td>11.894203</td>\n",
       "    </tr>\n",
       "    <tr>\n",
       "      <th>3</th>\n",
       "      <td>36162</td>\n",
       "      <td>36163</td>\n",
       "      <td>Joanne Hayes-White</td>\n",
       "      <td>Chief, Fire Department</td>\n",
       "      <td>296943.01</td>\n",
       "      <td>0.00</td>\n",
       "      <td>17816.59</td>\n",
       "      <td>72047.88</td>\n",
       "      <td>314759.60</td>\n",
       "      <td>386807.48</td>\n",
       "      <td>2012</td>\n",
       "      <td>Other</td>\n",
       "      <td>2</td>\n",
       "      <td>-2.302585</td>\n",
       "    </tr>\n",
       "    <tr>\n",
       "      <th>4</th>\n",
       "      <td>36163</td>\n",
       "      <td>36164</td>\n",
       "      <td>Frederick Binkley</td>\n",
       "      <td>EMT/Paramedic/Firefighter</td>\n",
       "      <td>126863.19</td>\n",
       "      <td>192424.49</td>\n",
       "      <td>17917.18</td>\n",
       "      <td>44438.25</td>\n",
       "      <td>337204.86</td>\n",
       "      <td>381643.11</td>\n",
       "      <td>2012</td>\n",
       "      <td>Other</td>\n",
       "      <td>2</td>\n",
       "      <td>12.167460</td>\n",
       "    </tr>\n",
       "    <tr>\n",
       "      <th>...</th>\n",
       "      <td>...</td>\n",
       "      <td>...</td>\n",
       "      <td>...</td>\n",
       "      <td>...</td>\n",
       "      <td>...</td>\n",
       "      <td>...</td>\n",
       "      <td>...</td>\n",
       "      <td>...</td>\n",
       "      <td>...</td>\n",
       "      <td>...</td>\n",
       "      <td>...</td>\n",
       "      <td>...</td>\n",
       "      <td>...</td>\n",
       "      <td>...</td>\n",
       "    </tr>\n",
       "    <tr>\n",
       "      <th>111876</th>\n",
       "      <td>148644</td>\n",
       "      <td>148645</td>\n",
       "      <td>Randy D Winn</td>\n",
       "      <td>Stationary Eng, Sewage Plant</td>\n",
       "      <td>0.00</td>\n",
       "      <td>0.00</td>\n",
       "      <td>0.00</td>\n",
       "      <td>0.00</td>\n",
       "      <td>0.00</td>\n",
       "      <td>0.00</td>\n",
       "      <td>2014</td>\n",
       "      <td>Not dep</td>\n",
       "      <td>5</td>\n",
       "      <td>-2.302585</td>\n",
       "    </tr>\n",
       "    <tr>\n",
       "      <th>111877</th>\n",
       "      <td>148645</td>\n",
       "      <td>148646</td>\n",
       "      <td>Carolyn A Wilson</td>\n",
       "      <td>Human Services Technician</td>\n",
       "      <td>0.00</td>\n",
       "      <td>0.00</td>\n",
       "      <td>0.00</td>\n",
       "      <td>0.00</td>\n",
       "      <td>0.00</td>\n",
       "      <td>0.00</td>\n",
       "      <td>2014</td>\n",
       "      <td>Other</td>\n",
       "      <td>2</td>\n",
       "      <td>-2.302585</td>\n",
       "    </tr>\n",
       "    <tr>\n",
       "      <th>111878</th>\n",
       "      <td>148647</td>\n",
       "      <td>148648</td>\n",
       "      <td>Joann Anderson</td>\n",
       "      <td>Communications Dispatcher 2</td>\n",
       "      <td>0.00</td>\n",
       "      <td>0.00</td>\n",
       "      <td>0.00</td>\n",
       "      <td>0.00</td>\n",
       "      <td>0.00</td>\n",
       "      <td>0.00</td>\n",
       "      <td>2014</td>\n",
       "      <td>Fire</td>\n",
       "      <td>4</td>\n",
       "      <td>-2.302585</td>\n",
       "    </tr>\n",
       "    <tr>\n",
       "      <th>111879</th>\n",
       "      <td>148648</td>\n",
       "      <td>148649</td>\n",
       "      <td>Leon Walker</td>\n",
       "      <td>Custodian</td>\n",
       "      <td>0.00</td>\n",
       "      <td>0.00</td>\n",
       "      <td>0.00</td>\n",
       "      <td>0.00</td>\n",
       "      <td>0.00</td>\n",
       "      <td>0.00</td>\n",
       "      <td>2014</td>\n",
       "      <td>Medicine</td>\n",
       "      <td>3</td>\n",
       "      <td>-2.302585</td>\n",
       "    </tr>\n",
       "    <tr>\n",
       "      <th>111880</th>\n",
       "      <td>148649</td>\n",
       "      <td>148650</td>\n",
       "      <td>Roy I Tillery</td>\n",
       "      <td>Custodian</td>\n",
       "      <td>0.00</td>\n",
       "      <td>0.00</td>\n",
       "      <td>0.00</td>\n",
       "      <td>0.00</td>\n",
       "      <td>0.00</td>\n",
       "      <td>0.00</td>\n",
       "      <td>2014</td>\n",
       "      <td>Medicine</td>\n",
       "      <td>3</td>\n",
       "      <td>-2.302585</td>\n",
       "    </tr>\n",
       "  </tbody>\n",
       "</table>\n",
       "<p>111881 rows × 14 columns</p>\n",
       "</div>"
      ],
      "text/plain": [
       "        Unnamed: 0      Id        EmployeeName                      JobTitle  \\\n",
       "0            36159   36160      Gary Altenberg  Lieutenant, Fire Suppression   \n",
       "1            36160   36161        Gregory Suhr               Chief of Police   \n",
       "2            36161   36162          Khoa Trinh   Electronic Maintenance Tech   \n",
       "3            36162   36163  Joanne Hayes-White        Chief, Fire Department   \n",
       "4            36163   36164   Frederick Binkley     EMT/Paramedic/Firefighter   \n",
       "...            ...     ...                 ...                           ...   \n",
       "111876      148644  148645        Randy D Winn  Stationary Eng, Sewage Plant   \n",
       "111877      148645  148646    Carolyn A Wilson     Human Services Technician   \n",
       "111878      148647  148648      Joann Anderson   Communications Dispatcher 2   \n",
       "111879      148648  148649         Leon Walker                     Custodian   \n",
       "111880      148649  148650       Roy I Tillery                     Custodian   \n",
       "\n",
       "          BasePay  OvertimePay  OtherPay  Benefits   TotalPay  \\\n",
       "0       128808.87    220909.48  13126.31  44430.12  362844.66   \n",
       "1       302578.00         0.00  18974.11  69810.19  321552.11   \n",
       "2       111921.00    146415.32  78057.41  53102.29  336393.73   \n",
       "3       296943.01         0.00  17816.59  72047.88  314759.60   \n",
       "4       126863.19    192424.49  17917.18  44438.25  337204.86   \n",
       "...           ...          ...       ...       ...        ...   \n",
       "111876       0.00         0.00      0.00      0.00       0.00   \n",
       "111877       0.00         0.00      0.00      0.00       0.00   \n",
       "111878       0.00         0.00      0.00      0.00       0.00   \n",
       "111879       0.00         0.00      0.00      0.00       0.00   \n",
       "111880       0.00         0.00      0.00      0.00       0.00   \n",
       "\n",
       "        TotalPayBenefits  Year Department  Department_ML  log_OvertimePay  \n",
       "0              407274.78  2012       Fire              4        12.305509  \n",
       "1              391362.30  2012      Other              2        -2.302585  \n",
       "2              389496.02  2012    Not dep              5        11.894203  \n",
       "3              386807.48  2012      Other              2        -2.302585  \n",
       "4              381643.11  2012      Other              2        12.167460  \n",
       "...                  ...   ...        ...            ...              ...  \n",
       "111876              0.00  2014    Not dep              5        -2.302585  \n",
       "111877              0.00  2014      Other              2        -2.302585  \n",
       "111878              0.00  2014       Fire              4        -2.302585  \n",
       "111879              0.00  2014   Medicine              3        -2.302585  \n",
       "111880              0.00  2014   Medicine              3        -2.302585  \n",
       "\n",
       "[111881 rows x 14 columns]"
      ]
     },
     "execution_count": 25,
     "metadata": {},
     "output_type": "execute_result"
    }
   ],
   "source": [
    "df"
   ]
  },
  {
   "cell_type": "code",
   "execution_count": 32,
   "metadata": {},
   "outputs": [],
   "source": [
    "md = smf.mixedlm(\"OvertimePay ~ Year\", df, groups=df[\"Department\"])\n",
    "mdf = md.fit()"
   ]
  },
  {
   "cell_type": "code",
   "execution_count": 27,
   "metadata": {},
   "outputs": [
    {
     "name": "stdout",
     "output_type": "stream",
     "text": [
      "            Mixed Linear Model Regression Results\n",
      "=============================================================\n",
      "Model:            MixedLM Dependent Variable: log_OvertimePay\n",
      "No. Observations: 111881  Method:             REML           \n",
      "No. Groups:       5       Scale:              27.8626        \n",
      "Min. group size:  6261    Log-Likelihood:     -344902.1535   \n",
      "Max. group size:  32672   Converged:          Yes            \n",
      "Mean group size:  22376.2                                    \n",
      "-------------------------------------------------------------\n",
      "               Coef.   Std.Err.   z    P>|z|  [0.025   0.975]\n",
      "-------------------------------------------------------------\n",
      "Intercept     -110.672   38.844 -2.849 0.004 -186.805 -34.538\n",
      "Year             0.057    0.019  2.929 0.003    0.019   0.094\n",
      "Group Var        2.274    0.292                              \n",
      "=============================================================\n",
      "\n"
     ]
    }
   ],
   "source": [
    "print(mdf.summary())"
   ]
  },
  {
   "cell_type": "code",
   "execution_count": 31,
   "metadata": {},
   "outputs": [
    {
     "name": "stdout",
     "output_type": "stream",
     "text": [
      "                    Mixed Linear Model Regression Results\n",
      "==============================================================================\n",
      "Model:                  MixedLM       Dependent Variable:       OvertimePay   \n",
      "No. Observations:       111881        Method:                   REML          \n",
      "No. Groups:             5             Scale:                    128914327.9966\n",
      "Min. group size:        6261          Log-Likelihood:           -1203427.0660 \n",
      "Max. group size:        32672         Converged:                Yes           \n",
      "Mean group size:        22376.2                                               \n",
      "------------------------------------------------------------------------------\n",
      "                     Coef.      Std.Err.    z    P>|z|    [0.025      0.975]  \n",
      "------------------------------------------------------------------------------\n",
      "Intercept          -316794.281  84285.836 -3.759 0.000 -481991.484 -151597.077\n",
      "Year                   160.269     41.831  3.831 0.000      78.282     242.256\n",
      "Group Var        136401215.983 569452.617                                     \n",
      "Group x Year Cov    -47688.160    283.491                                     \n",
      "Year Var                17.032      0.141                                     \n",
      "==============================================================================\n",
      "\n"
     ]
    }
   ],
   "source": [
    "md = smf.mixedlm(\"OvertimePay ~ Year\", df, groups=df[\"Department\"], re_formula=\"~Year\")\n",
    "mdf = md.fit(method=[\"lbfgs\"])\n",
    "print(mdf.summary())"
   ]
  },
  {
   "cell_type": "code",
   "execution_count": 29,
   "metadata": {},
   "outputs": [],
   "source": [
    "data = sm.datasets.get_rdataset(\"dietox\", \"geepack\").data"
   ]
  },
  {
   "cell_type": "code",
   "execution_count": 30,
   "metadata": {},
   "outputs": [
    {
     "data": {
      "text/plain": [
       "array([4601, 4602, 4603, 4605, 4641, 4643, 4645, 4756, 4757, 4759, 4760,\n",
       "       4813, 4814, 4815, 4817, 4854, 4856, 4857, 4858, 5389, 5392, 5497,\n",
       "       5500, 5501, 5502, 5524, 5527, 5528, 5578, 5581, 5582, 5850, 5851,\n",
       "       5852, 5862, 5865, 5866, 6055, 6056, 6057, 6058, 6207, 6208, 6211,\n",
       "       6284, 6287, 6288, 6430, 6432, 6433, 6909, 6910, 6912, 8049, 8050,\n",
       "       8051, 8053, 8139, 8141, 8142, 8144, 8191, 8192, 8193, 8195, 8269,\n",
       "       8270, 8271, 8273, 8437, 8439, 8442])"
      ]
     },
     "execution_count": 30,
     "metadata": {},
     "output_type": "execute_result"
    }
   ],
   "source": [
    "data['Pig'].unique()"
   ]
  },
  {
   "cell_type": "code",
   "execution_count": 38,
   "metadata": {},
   "outputs": [],
   "source": [
    "import numpy as np\n",
    "import pandas as pd\n",
    "import statsmodels.api as sm\n",
    "from sklearn import linear_model\n",
    "import patsy\n",
    "from scipy.stats import chi2 # for sig testing\n",
    "\n",
    "# Read the data\n",
    "autism_df = df.copy()"
   ]
  },
  {
   "cell_type": "code",
   "execution_count": null,
   "metadata": {},
   "outputs": [
    {
     "name": "stderr",
     "output_type": "stream",
     "text": [
      "/Users/boysbeanxious/opt/anaconda3/lib/python3.7/site-packages/statsmodels/regression/mixed_linear_model.py:2149: ConvergenceWarning: The MLE may be on the boundary of the parameter space.\n",
      "  warnings.warn(msg, ConvergenceWarning)\n"
     ]
    },
    {
     "name": "stdout",
     "output_type": "stream",
     "text": [
      "== Random effects Mixed Model\n"
     ]
    }
   ],
   "source": [
    "SIG_TESTING = True\n",
    "if SIG_TESTING==True:\n",
    "    # Random Effects Mixed Model with centering\n",
    "    mlm_mod = sm.MixedLM.from_formula(\n",
    "        formula = 'OvertimePay ~ Year * C(Department)', \n",
    "        groups = 'Id', \n",
    "        re_formula=\"0 + Year\", # random effect formula\n",
    "        data= df\n",
    "    )\n",
    "    # OLS model - no mixed effects\n",
    "    # age에 따른 random effect가 고려되어 있지 않습니다.\n",
    "    ols_mod = sm.OLS.from_formula(\n",
    "        formula = 'OvertimePay ~ Year * C(Department)', \n",
    "        data = df\n",
    "    )\n",
    "\n",
    "    # Run each of the fits\n",
    "    mlm_result = mlm_mod.fit()\n",
    "    ols_result = ols_mod.fit()\n",
    "\n",
    "    # Print out the summary of the fit\n",
    "    print(\"== Random effects Mixed Model\")\n",
    "    print(mlm_result.summary())\n",
    "    print(\"==\"*20)\n",
    "    print(\"== Ordinary Least Squares\")\n",
    "    print(ols_result.summary())\n"
   ]
  },
  {
   "cell_type": "code",
   "execution_count": null,
   "metadata": {},
   "outputs": [],
   "source": []
  }
 ],
 "metadata": {
  "kernelspec": {
   "display_name": "Python 3",
   "language": "python",
   "name": "python3"
  },
  "language_info": {
   "codemirror_mode": {
    "name": "ipython",
    "version": 3
   },
   "file_extension": ".py",
   "mimetype": "text/x-python",
   "name": "python",
   "nbconvert_exporter": "python",
   "pygments_lexer": "ipython3",
   "version": "3.7.6"
  }
 },
 "nbformat": 4,
 "nbformat_minor": 4
}
