{
 "cells": [
  {
   "cell_type": "code",
   "execution_count": 1,
   "metadata": {},
   "outputs": [],
   "source": [
    "import psycopg2\n",
    "import networkx as nx\n",
    "from networkx.algorithms import bipartite\n",
    "import numpy as np\n",
    "import pandas as pd\n",
    "import matplotlib.pyplot as plt\n",
    "%matplotlib inline"
   ]
  },
  {
   "cell_type": "code",
   "execution_count": 2,
   "metadata": {},
   "outputs": [],
   "source": [
    "connection = psycopg2.connect(\n",
    "    host = '152.70.249.200',\n",
    "    database = 'kdsg_sooldamwha',\n",
    "    user = 'kdsg',\n",
    "    password = 'kdsg1234')\n",
    "cursor = connection.cursor()\n",
    "cursor.execute(\" select id, r, minmax_r , f, minmax_f , m, minmax_m from cluster_rfm\")\n",
    "result = cursor.fetchall()\n",
    "# connection.commit()"
   ]
  },
  {
   "cell_type": "code",
   "execution_count": 3,
   "metadata": {},
   "outputs": [],
   "source": [
    "df_order = pd.DataFrame(result, columns = ['id', 'r', 'minmax_r' , 'f', 'minmax_f' , 'm', 'minmax_m'])"
   ]
  },
  {
   "cell_type": "code",
   "execution_count": 4,
   "metadata": {
    "scrolled": true
   },
   "outputs": [
    {
     "data": {
      "text/html": [
       "<div>\n",
       "<style scoped>\n",
       "    .dataframe tbody tr th:only-of-type {\n",
       "        vertical-align: middle;\n",
       "    }\n",
       "\n",
       "    .dataframe tbody tr th {\n",
       "        vertical-align: top;\n",
       "    }\n",
       "\n",
       "    .dataframe thead th {\n",
       "        text-align: right;\n",
       "    }\n",
       "</style>\n",
       "<table border=\"1\" class=\"dataframe\">\n",
       "  <thead>\n",
       "    <tr style=\"text-align: right;\">\n",
       "      <th></th>\n",
       "      <th>id</th>\n",
       "      <th>r</th>\n",
       "      <th>minmax_r</th>\n",
       "      <th>f</th>\n",
       "    </tr>\n",
       "  </thead>\n",
       "  <tbody>\n",
       "    <tr>\n",
       "      <th>count</th>\n",
       "      <td>35957.000000</td>\n",
       "      <td>35957.000000</td>\n",
       "      <td>35957.000000</td>\n",
       "      <td>35957.000000</td>\n",
       "    </tr>\n",
       "    <tr>\n",
       "      <th>mean</th>\n",
       "      <td>45980.707845</td>\n",
       "      <td>45.715660</td>\n",
       "      <td>0.752952</td>\n",
       "      <td>2.262870</td>\n",
       "    </tr>\n",
       "    <tr>\n",
       "      <th>std</th>\n",
       "      <td>24601.898708</td>\n",
       "      <td>33.471672</td>\n",
       "      <td>0.184926</td>\n",
       "      <td>2.868136</td>\n",
       "    </tr>\n",
       "    <tr>\n",
       "      <th>min</th>\n",
       "      <td>120.000000</td>\n",
       "      <td>1.000000</td>\n",
       "      <td>0.000000</td>\n",
       "      <td>1.000000</td>\n",
       "    </tr>\n",
       "    <tr>\n",
       "      <th>25%</th>\n",
       "      <td>25057.000000</td>\n",
       "      <td>20.000000</td>\n",
       "      <td>0.651934</td>\n",
       "      <td>1.000000</td>\n",
       "    </tr>\n",
       "    <tr>\n",
       "      <th>50%</th>\n",
       "      <td>46892.000000</td>\n",
       "      <td>40.000000</td>\n",
       "      <td>0.784530</td>\n",
       "      <td>1.000000</td>\n",
       "    </tr>\n",
       "    <tr>\n",
       "      <th>75%</th>\n",
       "      <td>66890.000000</td>\n",
       "      <td>64.000000</td>\n",
       "      <td>0.895028</td>\n",
       "      <td>3.000000</td>\n",
       "    </tr>\n",
       "    <tr>\n",
       "      <th>max</th>\n",
       "      <td>89364.000000</td>\n",
       "      <td>182.000000</td>\n",
       "      <td>1.000000</td>\n",
       "      <td>131.000000</td>\n",
       "    </tr>\n",
       "  </tbody>\n",
       "</table>\n",
       "</div>"
      ],
      "text/plain": [
       "                 id             r      minmax_r             f\n",
       "count  35957.000000  35957.000000  35957.000000  35957.000000\n",
       "mean   45980.707845     45.715660      0.752952      2.262870\n",
       "std    24601.898708     33.471672      0.184926      2.868136\n",
       "min      120.000000      1.000000      0.000000      1.000000\n",
       "25%    25057.000000     20.000000      0.651934      1.000000\n",
       "50%    46892.000000     40.000000      0.784530      1.000000\n",
       "75%    66890.000000     64.000000      0.895028      3.000000\n",
       "max    89364.000000    182.000000      1.000000    131.000000"
      ]
     },
     "execution_count": 4,
     "metadata": {},
     "output_type": "execute_result"
    }
   ],
   "source": [
    "df_order.describe()"
   ]
  },
  {
   "cell_type": "code",
   "execution_count": 5,
   "metadata": {},
   "outputs": [],
   "source": [
    "# 맥북 그래프 출력 시 한글 깨짐 현상으로 코드 추가 \n",
    "from matplotlib import rc\n",
    "import platform \n",
    "\n",
    "if platform.system()=='Darwin' : \n",
    "    rc('font', family='AppleGothic')\n",
    "    plt.rcParams['axes.unicode_minus'] = False"
   ]
  },
  {
   "cell_type": "code",
   "execution_count": 6,
   "metadata": {},
   "outputs": [],
   "source": [
    "from sklearn.cluster import KMeans\n",
    "from sklearn.metrics import silhouette_score\n",
    "\n",
    "inertia_list = []\n",
    "silhouette_list = []\n",
    "kmeans_per_k = []\n",
    "\n",
    "# grid search를 통해 클러스터 개수 바꾸어가며 결과 확인 \n",
    "cluster_num = range(2, 15)\n",
    "for i in cluster_num:\n",
    "    \n",
    "    # 그룹 수, random_state 설정\n",
    "    model = KMeans(n_clusters = i, random_state = 10)\n",
    "\n",
    "    # 정규화된 데이터에 학습\n",
    "    model.fit(df_order[['minmax_r', 'minmax_f', 'minmax_m']])\n",
    "\n",
    "    # 클러스터링 결과 각 데이터가 몇 번째 그룹에 속하는지 저장\n",
    "    df_order['cluster'] = model.fit_predict(df_order[['minmax_r', 'minmax_f', 'minmax_m']])\n",
    "    \n",
    "    # 클러스터 개수 별 이너셔 값 확인을 위해 데이터 저장 \n",
    "    inertia_list = np.append(inertia_list, model.inertia_)\n",
    "    # 클러스터 개수 별 실루엣 값 확인을 위해 데이터 저장 \n",
    "    silhouette_list = np.append(silhouette_list, silhouette_score(df_order[['minmax_r', 'minmax_f', 'minmax_m']], model.labels_))\n",
    "    # 추후 모델 재사용을 위해 모델 저장\n",
    "    kmeans_per_k.append(model)\n",
    "    "
   ]
  },
  {
   "cell_type": "code",
   "execution_count": 7,
   "metadata": {},
   "outputs": [
    {
     "data": {
      "image/png": "[encoded data removed]",
      "text/plain": [
       "<Figure size 432x288 with 1 Axes>"
      ]
     },
     "metadata": {
      "needs_background": "light"
     },
     "output_type": "display_data"
    }
   ],
   "source": [
    "# https://matplotlib.org/3.5.0/tutorials/colors/colormaps.html\n",
    "# 실루엣 점수 시각화\n",
    "## 엘보 지점이 가장 좋은데 뚜렷하게 보이지 않아 실루엣 계수 확인 진행 \n",
    "plt.plot(cluster_num, inertia_list, color = '#008000')\n",
    "plt.title('클러스터 개수 별 이너셔 점수 시각화')\n",
    "plt.show()"
   ]
  },
  {
   "cell_type": "code",
   "execution_count": 8,
   "metadata": {},
   "outputs": [
    {
     "data": {
      "image/png": "[encoded data removed]",
      "text/plain": [
       "<Figure size 432x288 with 1 Axes>"
      ]
     },
     "metadata": {
      "needs_background": "light"
     },
     "output_type": "display_data"
    }
   ],
   "source": [
    "# 실루엣계수 그래프\n",
    "# 1에 가까울수록 좋은 모델인데, 갈수록 낮아짐\n",
    "# 3 혹은 5 가 좋은 클러스터 개수일것으로 보임\n",
    "# 추가적으로 실루엣 그래프 확인\n",
    "plt.plot(cluster_num, silhouette_list, color = '#008000')\n",
    "plt.xticks(np.arange(2, 15))\n",
    "plt.axvline(x=3, color='r', linestyle='--', linewidth=2)\n",
    "plt.axvline(x=5, color='r', linestyle='--', linewidth=2)\n",
    "plt.title('클러스터 개수 별 실루엣 계수 시각화')\n",
    "plt.show()"
   ]
  },
  {
   "cell_type": "code",
   "execution_count": 9,
   "metadata": {
    "scrolled": false
   },
   "outputs": [
    {
     "data": {
      "image/png": "[encoded data removed]",
      "text/plain": [
       "<Figure size 792x648 with 4 Axes>"
      ]
     },
     "metadata": {
      "needs_background": "light"
     },
     "output_type": "display_data"
    }
   ],
   "source": [
    "%matplotlib inline\n",
    "import matplotlib as mpl\n",
    "import matplotlib.pyplot as plt\n",
    "mpl.rc('axes', labelsize=14)\n",
    "mpl.rc('xtick', labelsize=12)\n",
    "mpl.rc('ytick', labelsize=12)\n",
    "\n",
    "from sklearn.metrics import silhouette_samples\n",
    "from matplotlib.ticker import FixedLocator, FixedFormatter\n",
    "\n",
    "plt.figure(figsize=(11, 9))\n",
    "\n",
    "for k in (2,3,4,5):\n",
    "#     plt.subplot(2, 2, k - 1)\n",
    "    plt.subplot(2, 2, k - 1)\n",
    "    plt.subplots_adjust(hspace=0.3)\n",
    "\n",
    "    y_pred = kmeans_per_k[k - 1].labels_\n",
    "    silhouette_coefficients = silhouette_samples(df_order[['minmax_r', 'minmax_f', 'minmax_m']], df_order['cluster'])\n",
    "\n",
    "    padding = len(df_order[['minmax_r', 'minmax_f', 'minmax_m']]) // 30\n",
    "    pos = padding\n",
    "    ticks = []\n",
    "    for i in range(k):\n",
    "        coeffs = silhouette_coefficients[df_order['cluster'] == i]\n",
    "        coeffs.sort()\n",
    "\n",
    "        color = mpl.cm.Spectral(i / k)\n",
    "        plt.fill_betweenx(np.arange(pos, pos + len(coeffs)), 0, coeffs,\n",
    "                          facecolor=color, edgecolor=color, alpha=0.7)\n",
    "        ticks.append(pos + len(coeffs) // 2)\n",
    "        pos += len(coeffs) + padding\n",
    "\n",
    "    plt.gca().yaxis.set_major_locator(FixedLocator(ticks))\n",
    "    plt.gca().yaxis.set_major_formatter(FixedFormatter(range(k)))\n",
    "    if k in (2, 3, 4, 5):\n",
    "        plt.ylabel(\"Cluster\")\n",
    "    \n",
    "    if k in (2,3, 4, 5):\n",
    "        plt.gca().set_xticks([-0.1, 0, 0.2, 0.4, 0.6, 0.8, 1])\n",
    "        plt.xlabel(\"Silhouette Coefficient\")\n",
    "    else:\n",
    "        plt.tick_params(labelbottom=False)\n",
    "\n",
    "    plt.axvline(x=silhouette_list[k - 2], color=\"red\", linestyle=\"--\")\n",
    "    plt.title(\"$k={}$\".format(k), fontsize=16)\n",
    "\n",
    "# save_fig(\"silhouette_analysis_plot\")\n",
    "plt.show()\n",
    "# 세로축 기준으로 각 클러스터별 너비가 비슷하고(클러스터 내 데이터 갯수가 비슷하다는 의미)\n",
    "# 가로축 기준 붉은색 실선보다 큰 경우(실루엣 계수가 유의미할만큼 크다는 의미)\n",
    "# 모두 고려하여 k=5 선택"
   ]
  },
  {
   "cell_type": "code",
   "execution_count": 10,
   "metadata": {},
   "outputs": [
    {
     "data": {
      "text/plain": [
       "Index(['id', 'r', 'minmax_r', 'f', 'minmax_f', 'm', 'minmax_m', 'cluster'], dtype='object')"
      ]
     },
     "execution_count": 10,
     "metadata": {},
     "output_type": "execute_result"
    }
   ],
   "source": [
    "df_order.columns"
   ]
  },
  {
   "cell_type": "code",
   "execution_count": 11,
   "metadata": {},
   "outputs": [],
   "source": [
    "base = [ 'minmax_r',  'minmax_f', 'minmax_m']"
   ]
  },
  {
   "cell_type": "code",
   "execution_count": 12,
   "metadata": {},
   "outputs": [
    {
     "data": {
      "text/html": [
       "<div>\n",
       "<style scoped>\n",
       "    .dataframe tbody tr th:only-of-type {\n",
       "        vertical-align: middle;\n",
       "    }\n",
       "\n",
       "    .dataframe tbody tr th {\n",
       "        vertical-align: top;\n",
       "    }\n",
       "\n",
       "    .dataframe thead th {\n",
       "        text-align: right;\n",
       "    }\n",
       "</style>\n",
       "<table border=\"1\" class=\"dataframe\">\n",
       "  <thead>\n",
       "    <tr style=\"text-align: right;\">\n",
       "      <th></th>\n",
       "      <th>id</th>\n",
       "      <th>r</th>\n",
       "      <th>minmax_r</th>\n",
       "      <th>f</th>\n",
       "      <th>minmax_f</th>\n",
       "      <th>m</th>\n",
       "      <th>minmax_m</th>\n",
       "      <th>cluster</th>\n",
       "    </tr>\n",
       "  </thead>\n",
       "  <tbody>\n",
       "    <tr>\n",
       "      <th>0</th>\n",
       "      <td>120</td>\n",
       "      <td>3.0</td>\n",
       "      <td>0.988950</td>\n",
       "      <td>124</td>\n",
       "      <td>0.05384615384615384615</td>\n",
       "      <td>3960725</td>\n",
       "      <td>0.48274836850040042573</td>\n",
       "      <td>6</td>\n",
       "    </tr>\n",
       "    <tr>\n",
       "      <th>1</th>\n",
       "      <td>121</td>\n",
       "      <td>37.0</td>\n",
       "      <td>0.801105</td>\n",
       "      <td>2</td>\n",
       "      <td>0.99230769230769230769</td>\n",
       "      <td>44400</td>\n",
       "      <td>0.99456210362557789901</td>\n",
       "      <td>0</td>\n",
       "    </tr>\n",
       "    <tr>\n",
       "      <th>2</th>\n",
       "      <td>123</td>\n",
       "      <td>45.0</td>\n",
       "      <td>0.756906</td>\n",
       "      <td>2</td>\n",
       "      <td>0.99230769230769230769</td>\n",
       "      <td>55500</td>\n",
       "      <td>0.99311147517674143371</td>\n",
       "      <td>0</td>\n",
       "    </tr>\n",
       "    <tr>\n",
       "      <th>3</th>\n",
       "      <td>135</td>\n",
       "      <td>154.0</td>\n",
       "      <td>0.154696</td>\n",
       "      <td>1</td>\n",
       "      <td>1.00000000000000000000</td>\n",
       "      <td>42000</td>\n",
       "      <td>0.99487575301992091853</td>\n",
       "      <td>5</td>\n",
       "    </tr>\n",
       "    <tr>\n",
       "      <th>4</th>\n",
       "      <td>138</td>\n",
       "      <td>97.0</td>\n",
       "      <td>0.469613</td>\n",
       "      <td>2</td>\n",
       "      <td>0.99230769230769230769</td>\n",
       "      <td>75600</td>\n",
       "      <td>0.99048466149911864520</td>\n",
       "      <td>1</td>\n",
       "    </tr>\n",
       "    <tr>\n",
       "      <th>...</th>\n",
       "      <td>...</td>\n",
       "      <td>...</td>\n",
       "      <td>...</td>\n",
       "      <td>...</td>\n",
       "      <td>...</td>\n",
       "      <td>...</td>\n",
       "      <td>...</td>\n",
       "      <td>...</td>\n",
       "    </tr>\n",
       "    <tr>\n",
       "      <th>35952</th>\n",
       "      <td>89342</td>\n",
       "      <td>1.0</td>\n",
       "      <td>1.000000</td>\n",
       "      <td>2</td>\n",
       "      <td>0.99230769230769230769</td>\n",
       "      <td>63000</td>\n",
       "      <td>0.99213132081941949770</td>\n",
       "      <td>10</td>\n",
       "    </tr>\n",
       "    <tr>\n",
       "      <th>35953</th>\n",
       "      <td>89343</td>\n",
       "      <td>1.0</td>\n",
       "      <td>1.000000</td>\n",
       "      <td>5</td>\n",
       "      <td>0.96923076923076923077</td>\n",
       "      <td>45500</td>\n",
       "      <td>0.99441834765317068173</td>\n",
       "      <td>10</td>\n",
       "    </tr>\n",
       "    <tr>\n",
       "      <th>35954</th>\n",
       "      <td>89348</td>\n",
       "      <td>1.0</td>\n",
       "      <td>1.000000</td>\n",
       "      <td>1</td>\n",
       "      <td>1.00000000000000000000</td>\n",
       "      <td>26000</td>\n",
       "      <td>0.99696674898220771536</td>\n",
       "      <td>10</td>\n",
       "    </tr>\n",
       "    <tr>\n",
       "      <th>35955</th>\n",
       "      <td>89359</td>\n",
       "      <td>1.0</td>\n",
       "      <td>1.000000</td>\n",
       "      <td>2</td>\n",
       "      <td>0.99230769230769230769</td>\n",
       "      <td>216000</td>\n",
       "      <td>0.97213617193005200307</td>\n",
       "      <td>10</td>\n",
       "    </tr>\n",
       "    <tr>\n",
       "      <th>35956</th>\n",
       "      <td>89364</td>\n",
       "      <td>1.0</td>\n",
       "      <td>1.000000</td>\n",
       "      <td>4</td>\n",
       "      <td>0.97692307692307692308</td>\n",
       "      <td>53600</td>\n",
       "      <td>0.99335978094726299084</td>\n",
       "      <td>10</td>\n",
       "    </tr>\n",
       "  </tbody>\n",
       "</table>\n",
       "<p>35957 rows × 8 columns</p>\n",
       "</div>"
      ],
      "text/plain": [
       "          id      r  minmax_r    f                minmax_f        m  \\\n",
       "0        120    3.0  0.988950  124  0.05384615384615384615  3960725   \n",
       "1        121   37.0  0.801105    2  0.99230769230769230769    44400   \n",
       "2        123   45.0  0.756906    2  0.99230769230769230769    55500   \n",
       "3        135  154.0  0.154696    1  1.00000000000000000000    42000   \n",
       "4        138   97.0  0.469613    2  0.99230769230769230769    75600   \n",
       "...      ...    ...       ...  ...                     ...      ...   \n",
       "35952  89342    1.0  1.000000    2  0.99230769230769230769    63000   \n",
       "35953  89343    1.0  1.000000    5  0.96923076923076923077    45500   \n",
       "35954  89348    1.0  1.000000    1  1.00000000000000000000    26000   \n",
       "35955  89359    1.0  1.000000    2  0.99230769230769230769   216000   \n",
       "35956  89364    1.0  1.000000    4  0.97692307692307692308    53600   \n",
       "\n",
       "                     minmax_m  cluster  \n",
       "0      0.48274836850040042573        6  \n",
       "1      0.99456210362557789901        0  \n",
       "2      0.99311147517674143371        0  \n",
       "3      0.99487575301992091853        5  \n",
       "4      0.99048466149911864520        1  \n",
       "...                       ...      ...  \n",
       "35952  0.99213132081941949770       10  \n",
       "35953  0.99441834765317068173       10  \n",
       "35954  0.99696674898220771536       10  \n",
       "35955  0.97213617193005200307       10  \n",
       "35956  0.99335978094726299084       10  \n",
       "\n",
       "[35957 rows x 8 columns]"
      ]
     },
     "execution_count": 12,
     "metadata": {},
     "output_type": "execute_result"
    }
   ],
   "source": [
    "df_order"
   ]
  },
  {
   "cell_type": "code",
   "execution_count": null,
   "metadata": {},
   "outputs": [],
   "source": []
  }
 ],
 "metadata": {
  "kernelspec": {
   "display_name": "Python 3",
   "language": "python",
   "name": "python3"
  },
  "language_info": {
   "codemirror_mode": {
    "name": "ipython",
    "version": 3
   },
   "file_extension": ".py",
   "mimetype": "text/x-python",
   "name": "python",
   "nbconvert_exporter": "python",
   "pygments_lexer": "ipython3",
   "version": "3.7.6"
  }
 },
 "nbformat": 4,
 "nbformat_minor": 4
}
