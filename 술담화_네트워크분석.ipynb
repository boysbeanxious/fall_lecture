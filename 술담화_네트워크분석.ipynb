{
 "cells": [
  {
   "cell_type": "code",
   "execution_count": 25,
   "metadata": {},
   "outputs": [],
   "source": [
    "import psycopg2\n",
    "import networkx as nx\n",
    "from networkx.algorithms import bipartite\n",
    "import numpy as np\n",
    "import pandas as pd\n",
    "import matplotlib.pyplot as plt\n",
    "%matplotlib inline"
   ]
  },
  {
   "cell_type": "code",
   "execution_count": 16,
   "metadata": {},
   "outputs": [],
   "source": [
    "connection = psycopg2.connect(\n",
    "    host = '152.70.249.200',\n",
    "    database = 'kdsg_sooldamwha',\n",
    "    user = 'kdsg',\n",
    "    password = 'kdsg1234')\n",
    "cursor = connection.cursor()\n",
    "cursor.execute(\"SELECT ID, PRODUCT_ID, PRODUCT_OPTION_ID FROM ORDERS\")\n",
    "result = cursor.fetchall()\n",
    "# connection.commit()"
   ]
  },
  {
   "cell_type": "code",
   "execution_count": 22,
   "metadata": {},
   "outputs": [],
   "source": [
    "df_order = pd.DataFrame(result, columns = ['ID', 'PRODUCT_ID', 'PRODUCT_OPTION_ID'])"
   ]
  },
  {
   "cell_type": "code",
   "execution_count": 24,
   "metadata": {
    "scrolled": false
   },
   "outputs": [
    {
     "data": {
      "text/html": [
       "<div>\n",
       "<style scoped>\n",
       "    .dataframe tbody tr th:only-of-type {\n",
       "        vertical-align: middle;\n",
       "    }\n",
       "\n",
       "    .dataframe tbody tr th {\n",
       "        vertical-align: top;\n",
       "    }\n",
       "\n",
       "    .dataframe thead th {\n",
       "        text-align: right;\n",
       "    }\n",
       "</style>\n",
       "<table border=\"1\" class=\"dataframe\">\n",
       "  <thead>\n",
       "    <tr style=\"text-align: right;\">\n",
       "      <th></th>\n",
       "      <th>ID</th>\n",
       "      <th>PRODUCT_ID</th>\n",
       "      <th>PRODUCT_OPTION_ID</th>\n",
       "    </tr>\n",
       "  </thead>\n",
       "  <tbody>\n",
       "    <tr>\n",
       "      <th>count</th>\n",
       "      <td>154188.000000</td>\n",
       "      <td>154188.000000</td>\n",
       "      <td>154188.000000</td>\n",
       "    </tr>\n",
       "    <tr>\n",
       "      <th>mean</th>\n",
       "      <td>161905.904532</td>\n",
       "      <td>475.830849</td>\n",
       "      <td>771.698083</td>\n",
       "    </tr>\n",
       "    <tr>\n",
       "      <th>std</th>\n",
       "      <td>59147.185563</td>\n",
       "      <td>437.126129</td>\n",
       "      <td>549.766571</td>\n",
       "    </tr>\n",
       "    <tr>\n",
       "      <th>min</th>\n",
       "      <td>146.000000</td>\n",
       "      <td>40.000000</td>\n",
       "      <td>66.000000</td>\n",
       "    </tr>\n",
       "    <tr>\n",
       "      <th>25%</th>\n",
       "      <td>130485.750000</td>\n",
       "      <td>156.000000</td>\n",
       "      <td>273.000000</td>\n",
       "    </tr>\n",
       "    <tr>\n",
       "      <th>50%</th>\n",
       "      <td>169549.500000</td>\n",
       "      <td>244.000000</td>\n",
       "      <td>525.000000</td>\n",
       "    </tr>\n",
       "    <tr>\n",
       "      <th>75%</th>\n",
       "      <td>208642.250000</td>\n",
       "      <td>1061.000000</td>\n",
       "      <td>1301.000000</td>\n",
       "    </tr>\n",
       "    <tr>\n",
       "      <th>max</th>\n",
       "      <td>247936.000000</td>\n",
       "      <td>1270.000000</td>\n",
       "      <td>1663.000000</td>\n",
       "    </tr>\n",
       "  </tbody>\n",
       "</table>\n",
       "</div>"
      ],
      "text/plain": [
       "                  ID     PRODUCT_ID  PRODUCT_OPTION_ID\n",
       "count  154188.000000  154188.000000      154188.000000\n",
       "mean   161905.904532     475.830849         771.698083\n",
       "std     59147.185563     437.126129         549.766571\n",
       "min       146.000000      40.000000          66.000000\n",
       "25%    130485.750000     156.000000         273.000000\n",
       "50%    169549.500000     244.000000         525.000000\n",
       "75%    208642.250000    1061.000000        1301.000000\n",
       "max    247936.000000    1270.000000        1663.000000"
      ]
     },
     "execution_count": 24,
     "metadata": {},
     "output_type": "execute_result"
    }
   ],
   "source": [
    "df_order.describe()"
   ]
  },
  {
   "cell_type": "markdown",
   "metadata": {},
   "source": [
    "# productid와 product optioin id를 합쳐서 V노드로 생성 필요 \n",
    "product 자리수: 0000 네자리수로 표현\n",
    "product_option_id자리수 : 0000네자리수로 표현\n",
    "\n",
    "> 신규 변수 생성 po_id \n"
   ]
  },
  {
   "cell_type": "code",
   "execution_count": 29,
   "metadata": {},
   "outputs": [],
   "source": [
    "df_order['PRODUCT_ID'] = df_order['PRODUCT_ID'].astype('str')\n",
    "df_order['PRODUCT_OPTION_ID'] = df_order['PRODUCT_OPTION_ID'].astype('str')"
   ]
  },
  {
   "cell_type": "code",
   "execution_count": 34,
   "metadata": {},
   "outputs": [],
   "source": [
    "df_order['PRODUCT_ID'] = df_order['PRODUCT_ID'].str.zfill(4)\n",
    "df_order['PRODUCT_OPTION_ID'] = df_order['PRODUCT_OPTION_ID'].str.zfill(4)"
   ]
  },
  {
   "cell_type": "code",
   "execution_count": 37,
   "metadata": {},
   "outputs": [],
   "source": [
    "df_order['PO_ID'] = df_order['PRODUCT_ID']+df_order['PRODUCT_OPTION_ID']"
   ]
  },
  {
   "cell_type": "code",
   "execution_count": 38,
   "metadata": {},
   "outputs": [],
   "source": [
    "U_nodes = list(df_order['ID'].drop_duplicates())\n",
    "V_nodes = list(df_order['PO_ID'].drop_duplicates())\n",
    "edgelist = list(zip(df_order['ID'], df_order['PO_ID']))"
   ]
  },
  {
   "cell_type": "code",
   "execution_count": 40,
   "metadata": {},
   "outputs": [],
   "source": [
    "b = nx.Graph()\n",
    "b.add_nodes_from(U_nodes, bipartite=0)\n",
    "b.add_nodes_from(V_nodes, bipartite=1)\n",
    "\n",
    "b.add_edges_from(edgelist)"
   ]
  },
  {
   "cell_type": "code",
   "execution_count": 41,
   "metadata": {},
   "outputs": [],
   "source": [
    "G = bipartite.projected_graph(b, U_nodes)"
   ]
  },
  {
   "cell_type": "code",
   "execution_count": null,
   "metadata": {},
   "outputs": [],
   "source": [
    "pk_internet = {}\n",
    "num_nodes = len(G.degree())\n",
    "for i in dict(G.degree()).values():\n",
    "    if i in pk_internet:\n",
    "        pk_internet[i] += 1/num_nodes\n",
    "    else:\n",
    "        pk_internet[i] = 1/num_nodes\n",
    "        \n",
    "x, y = zip(*pk_internet.items())"
   ]
  },
  {
   "cell_type": "code",
   "execution_count": 8,
   "metadata": {},
   "outputs": [],
   "source": [
    "# db = \\\n",
    "# psycopg2.connect(host='152.70.249.200', dbname='kdsg_sooldamwha',user='kdsg',password='kdsg1234',port=5432)"
   ]
  },
  {
   "cell_type": "code",
   "execution_count": null,
   "metadata": {},
   "outputs": [],
   "source": []
  },
  {
   "cell_type": "code",
   "execution_count": 9,
   "metadata": {},
   "outputs": [],
   "source": [
    "# cursor=db.cursor()"
   ]
  },
  {
   "cell_type": "code",
   "execution_count": 10,
   "metadata": {},
   "outputs": [],
   "source": [
    "# def readDB(cursor, schema,table,colum):\n",
    "#     sql = \" SELECT {colum} from {schema}.{table}\".format(colum=colum,schema=schema,table=table)\n",
    "#     try:\n",
    "# #         self.cursor.execute(sql)\n",
    "#         cursor.execute(sql)\n",
    "#         result = cursor.fetchall()\n",
    "#     except Exception as e :\n",
    "#         result = (\" read DB err\",e)\n",
    "    \n",
    "#     return result"
   ]
  },
  {
   "cell_type": "code",
   "execution_count": 11,
   "metadata": {},
   "outputs": [
    {
     "name": "stdout",
     "output_type": "stream",
     "text": [
      "(' read DB err', SyntaxError('syntax error at or near \"[\"\\nLINE 1:  SELECT [\\'id\\', \\'product_id\\', \\'product_option_id\\'] from publi...\\n                ^\\n'))\n"
     ]
    }
   ],
   "source": [
    "# print(readDB(cursor = cursor, schema='public',table='orders',colum=['id', 'product_id', 'product_option_id']))"
   ]
  },
  {
   "cell_type": "code",
   "execution_count": null,
   "metadata": {},
   "outputs": [],
   "source": []
  }
 ],
 "metadata": {
  "kernelspec": {
   "display_name": "Python 3",
   "language": "python",
   "name": "python3"
  },
  "language_info": {
   "codemirror_mode": {
    "name": "ipython",
    "version": 3
   },
   "file_extension": ".py",
   "mimetype": "text/x-python",
   "name": "python",
   "nbconvert_exporter": "python",
   "pygments_lexer": "ipython3",
   "version": "3.7.6"
  }
 },
 "nbformat": 4,
 "nbformat_minor": 4
}
